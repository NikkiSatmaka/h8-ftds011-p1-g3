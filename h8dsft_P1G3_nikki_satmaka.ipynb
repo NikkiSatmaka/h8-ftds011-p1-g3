{
 "cells": [
  {
   "cell_type": "markdown",
   "metadata": {},
   "source": [
    "# 1. Introduction\n",
    "\n",
    "Nikki Satmaka - Batch 11"
   ]
  },
  {
   "cell_type": "markdown",
   "metadata": {},
   "source": [
    "## Description\n",
    "\n",
    "Dataset is taken from [Google Cloud Platform ftds-hacktiv8](https://console.cloud.google.com/bigquery?p=ftds-hacktiv8-project&d=phase1_assignments&t=heart-failure&page=table)\n",
    "\n",
    "Context:\n",
    "Cardiovascular diseases kill approximately 17 million people globally every year, and they mainly exhibit as myocardial infarctions and heart failures\n",
    "\n",
    "This dataset contains the medical records of 299 heart failure patients collected at the Faisalabad Institute of Cardiology and at the Allied Hospital in Faisalabad (Punjab, Pakistan), during April–December 2015. The patients consisted of 105 women and 194 men, and their ages range between 40 and 95 years old\n",
    "\n",
    "List of features:\n",
    "1. `age` : Age\n",
    "2. `anaemia` : Decrease of red blood cells or hemoglobin (boolean)\n",
    "3. `creatinine_phosphokinase` : Level of the CPK enzyme in the blood (mcg/L)\n",
    "4. `diabetes` : If the patient has diabetes (boolean)\n",
    "5. `ejection_fraction` : Percentage of blood leaving the heart at each contraction (percentage)\n",
    "6. `high_blood_pressure` : If the patient has hypertension (boolean)\n",
    "7. `platelets` : Platelets in the blood (kiloplatelets/mL)\n",
    "8. `serum_creatinine` : Level of serum creatinine in the blood (mg/dL)\n",
    "9. `serum_sodium` : Level of serum sodium in the blood (mEq/L)\n",
    "10. `sex` : Woman or man (binary)\n",
    "11. `smoking` : If the patient smokes or not (boolean)\n",
    "12. `time` : Follow-up period (days)\n",
    "13. `DEATH_EVENT` : If the patient deceased during the follow-up period (boolean)\n",
    "\n",
    "\n",
    "### Objective\n",
    "\n",
    "- Predict if the patient would pass away during the follow-up period\n",
    "\n",
    "### Problem Statement\n",
    "\n",
    "- What features are going to be useful as predictors?\n",
    "\n",
    "### Additional Information\n",
    "- [Dataset Explanation](https://bmcmedinformdecismak.biomedcentral.com/articles/10.1186/s12911-020-1023-5/tables/1)"
   ]
  },
  {
   "cell_type": "markdown",
   "metadata": {},
   "source": [
    "### Data Collection\n",
    "\n",
    "We first need to query our data from GCP's BiqQuery using this code\n",
    "\n",
    "```SQL\n",
    "SELECT *\n",
    "FROM `ftds-hacktiv8-project.phase1_assignments.heart-failure`\n",
    "```"
   ]
  },
  {
   "cell_type": "markdown",
   "metadata": {},
   "source": [
    "# 2. Importing Libraries"
   ]
  },
  {
   "cell_type": "code",
   "execution_count": 1,
   "metadata": {},
   "outputs": [],
   "source": [
    "# importing libraries\n",
    "import numpy as np\n",
    "import pandas as pd\n",
    "import matplotlib.pyplot as plt\n",
    "import seaborn as sns\n",
    "from pathlib import Path\n",
    "\n",
    "import joblib\n",
    "\n",
    "import warnings\n",
    "warnings.filterwarnings('ignore')\n",
    "\n",
    "# For Data Preprocessing\n",
    "from sklearn.pipeline import Pipeline\n",
    "from sklearn.compose import ColumnTransformer\n",
    "\n",
    "# For Classification Problems\n",
    "from sklearn.ensemble import RandomForestClassifier\n",
    "from sklearn.ensemble import GradientBoostingClassifier\n",
    "\n",
    "# Hyperparameter Tuning\n",
    "from sklearn.model_selection import RandomizedSearchCV\n",
    "\n",
    "# Split Dataset and Standarize the Datasets\n",
    "from sklearn.model_selection import train_test_split\n",
    "from sklearn.model_selection import cross_validate\n",
    "from sklearn.preprocessing import StandardScaler\n",
    "from sklearn.preprocessing import MinMaxScaler\n",
    "from sklearn.preprocessing import OneHotEncoder\n",
    "from sklearn.preprocessing import PowerTransformer\n",
    "from sklearn.preprocessing import RobustScaler\n",
    "\n",
    "# Evaluate Classification Models\n",
    "from sklearn.metrics import roc_curve\n",
    "from sklearn.metrics import classification_report\n",
    "from sklearn.metrics import auc\n",
    "from sklearn.metrics import f1_score\n",
    "from sklearn.metrics import recall_score\n",
    "from sklearn.metrics import roc_auc_score\n",
    "\n",
    "\n",
    "pd.set_option('display.precision', 2)\n",
    "\n",
    "sns.set_theme(style='darkgrid', palette='deep')\n",
    "\n",
    "%matplotlib inline"
   ]
  },
  {
   "cell_type": "markdown",
   "metadata": {},
   "source": [
    "### Useful Functions"
   ]
  },
  {
   "cell_type": "code",
   "execution_count": 2,
   "metadata": {},
   "outputs": [],
   "source": [
    "def check_unique(data, col_type='both'):\n",
    "    \"\"\"\n",
    "    Count the number of unique values in each features for 'numeric', 'categorical', or 'both'\n",
    "\n",
    "    Parameters\n",
    "    ----------\n",
    "    data : DataFrame\n",
    "\n",
    "    col_type : str\n",
    "        The type of the column to filter. Either 'number', 'object', or 'both'\n",
    "\n",
    "    Returns\n",
    "    -------\n",
    "    DataFrame\n",
    "        Number of unique values of each features\n",
    "    \"\"\"\n",
    "\n",
    "    # check if the column type is valid\n",
    "    if col_type not in ('number', 'object', 'both'):\n",
    "        raise ValueError('col_type must be either \"number\", \"object\", or \"both\"')\n",
    "\n",
    "    # create a list if the column type is 'both'\n",
    "    if col_type == 'both':\n",
    "        col_type = ['number', 'object']\n",
    "\n",
    "    # get the number of unique values in each column\n",
    "    data_unique_count = pd.DataFrame.from_records(\n",
    "        [(col, data[col].nunique()) for col in data.select_dtypes(include=col_type).columns],\n",
    "        columns=['feats', 'num_unique']\n",
    "    )\n",
    "\n",
    "    return data_unique_count"
   ]
  },
  {
   "cell_type": "code",
   "execution_count": 3,
   "metadata": {
    "id": "QTywsfA5QXOj"
   },
   "outputs": [],
   "source": [
    "def find_normal_boundaries(data, variable):\n",
    "    \"\"\"\n",
    "    Calculate the boundaries outside which sit the outliers for a Gaussian distribution\n",
    "\n",
    "    Parameters\n",
    "    ----------\n",
    "    data : DataFrame\n",
    "\n",
    "    variable : string\n",
    "        The feature of the DataFrame in which to the calculation will be performed\n",
    "\n",
    "    Returns\n",
    "    -------\n",
    "    upper_boundary : float\n",
    "        The computed upper boundary of the data\n",
    "\n",
    "    lower_boundary : float\n",
    "        The computed lower boundary of the data\n",
    "    \"\"\"\n",
    "\n",
    "    upper_boundary = data[variable].mean() + 3 * data[variable].std()\n",
    "    lower_boundary = data[variable].mean() - 3 * data[variable].std()\n",
    "\n",
    "    return upper_boundary, lower_boundary"
   ]
  },
  {
   "cell_type": "code",
   "execution_count": 4,
   "metadata": {
    "id": "zuSeqy1BQXOm"
   },
   "outputs": [],
   "source": [
    "def find_skewed_boundaries(data, variable, distance):\n",
    "    \"\"\"\n",
    "    Calculate the boundaries outside which sit the outliers for skewed distribution\n",
    "\n",
    "    Parameters\n",
    "    ----------\n",
    "    data : DataFrame\n",
    "\n",
    "    variable : string\n",
    "        The feature of the DataFrame in which to the calculation will be performed\n",
    "\n",
    "    distance : float\n",
    "        The distance multiplier of IQR to calculate the boundaries\n",
    "\n",
    "    Returns\n",
    "    -------\n",
    "    upper_boundary : float\n",
    "        The computed upper boundary of the data\n",
    "\n",
    "    lower_boundary : float\n",
    "        The computed lower boundary of the data\n",
    "    \"\"\"\n",
    "\n",
    "    IQR = data[variable].quantile(0.75) - data[variable].quantile(0.25)\n",
    "\n",
    "    upper_boundary = data[variable].quantile(0.75) + (IQR * distance)\n",
    "    lower_boundary = data[variable].quantile(0.25) - (IQR * distance)\n",
    "\n",
    "    return upper_boundary, lower_boundary"
   ]
  },
  {
   "cell_type": "code",
   "execution_count": 5,
   "metadata": {},
   "outputs": [],
   "source": [
    "def check_dist(data):\n",
    "    \"\"\"\n",
    "    Check the Skewness and Distribution for each features in a dataset\n",
    "\n",
    "    Parameters\n",
    "    ----------\n",
    "    data : DataFrame\n",
    "\n",
    "    Returns\n",
    "    -------\n",
    "    DataFrame\n",
    "        Skewness and distribution types of each features\n",
    "    \"\"\"\n",
    "\n",
    "    # create a DataFrame containing the features of the dataset and their respective skewness\n",
    "    data_skewness = pd.DataFrame(data.skew(), columns=['skew']).reset_index()\n",
    "\n",
    "    # reset the index and make the features columns\n",
    "    data_skewness = data_skewness.rename(columns={'index': 'feats'})\n",
    "\n",
    "    # create a new column to describe whether the feature in the dataset is normal or skewed\n",
    "    data_skewness['dist'] = np.where(\n",
    "        (data_skewness['skew'] > -0.5) & (data_skewness['skew'] < 0.5),\n",
    "        'normal',\n",
    "        'skewed'\n",
    "    )\n",
    "\n",
    "    return data_skewness"
   ]
  },
  {
   "cell_type": "code",
   "execution_count": 6,
   "metadata": {},
   "outputs": [],
   "source": [
    "def check_outlier(data, distance=1.5):\n",
    "    \"\"\"\n",
    "    Check the outlier info for each features in a dataset\n",
    "\n",
    "    Parameters\n",
    "    ----------\n",
    "    data : DataFrame\n",
    "\n",
    "    distance : float\n",
    "        The distance multiplier of IQR to calculate the boundaries for skewed distributions. It's either 1.5 or 3\n",
    "\n",
    "    Returns\n",
    "    -------\n",
    "    DataFrame\n",
    "        Outlier infos such as upper and lower boundary, and also the number of outliers for each features\n",
    "    \"\"\"\n",
    "\n",
    "    if distance not in (1.5, 3):\n",
    "        raise ValueError('Parameter distance only accepts numeric value of either 1.5 or 3')\n",
    "\n",
    "    data_skewness = check_dist(data)\n",
    "\n",
    "    # create a dictionary to store the outlier infos\n",
    "    data_outlier = {\n",
    "        'feats': [],\n",
    "        'upper_bound': [],\n",
    "        'lower_bound': [],\n",
    "        'tot_right_tail': [],\n",
    "        'tot_left_tail': [],\n",
    "        'tot_right_tail_pct': [],\n",
    "        'tot_left_tail_pct': [],\n",
    "        'tot_outlier': [],\n",
    "        'tot_outlier_pct': [],\n",
    "    }\n",
    "\n",
    "    # loop over each row in the `skewness` DataFrame\n",
    "    # calculate each features upper and lower boundaries and the outlier percentage\n",
    "    for row in data_skewness.index:\n",
    "        col = data_skewness.iloc[row]['feats']\n",
    "\n",
    "        if data_skewness.iloc[row]['dist'] == 'normal':\n",
    "            upper_bound, lower_bound = find_normal_boundaries(data, col)\n",
    "        else:\n",
    "            upper_bound, lower_bound = find_skewed_boundaries(data, col, distance)\n",
    "\n",
    "        tot_right_tail = len(data[data[col] > upper_bound])\n",
    "        tot_left_tail = len(data[data[col] < lower_bound])\n",
    "        tot_right_tail_pct = tot_right_tail / len(data) * 100\n",
    "        tot_left_tail_pct = tot_left_tail / len(data) * 100\n",
    "        tot_outlier =  tot_right_tail + tot_left_tail\n",
    "        tot_outlier_pct = tot_right_tail_pct + tot_left_tail_pct\n",
    "\n",
    "        data_outlier['feats'].append(col)\n",
    "        data_outlier['upper_bound'].append(upper_bound)\n",
    "        data_outlier['lower_bound'].append(lower_bound)\n",
    "        data_outlier['tot_right_tail'].append(tot_right_tail)\n",
    "        data_outlier['tot_left_tail'].append(tot_left_tail)\n",
    "        data_outlier['tot_right_tail_pct'].append(tot_right_tail_pct)\n",
    "        data_outlier['tot_left_tail_pct'].append(tot_left_tail_pct)\n",
    "        data_outlier['tot_outlier'].append(tot_outlier)\n",
    "        data_outlier['tot_outlier_pct'].append(tot_outlier_pct)\n",
    "    \n",
    "    data_outlier = pd.DataFrame(data_outlier)\n",
    "\n",
    "    return data_outlier"
   ]
  },
  {
   "cell_type": "code",
   "execution_count": 7,
   "metadata": {},
   "outputs": [],
   "source": [
    "def outlier_summary(data, distance=1.5):\n",
    "    \"\"\"\n",
    "    Check the summary for outlier data, such as distribution and number of outliers for each features\n",
    "\n",
    "    Parameters\n",
    "    ----------\n",
    "    data : DataFrame\n",
    "\n",
    "    distance : float\n",
    "        The distance multiplier of IQR to calculate the boundaries for skewed distributions. It's either 1.5 or 3\n",
    "\n",
    "    Returns\n",
    "    -------\n",
    "    DataFrame\n",
    "        Summary of outlier such as distribution and number of outliers for each features\n",
    "    \"\"\"\n",
    "\n",
    "    data_skewness = check_dist(data)\n",
    "    data_outlier = check_outlier(data, distance)\n",
    "\n",
    "    outlier_summary_cols = ['feats', 'skew', 'dist', 'tot_outlier', 'tot_outlier_pct']\n",
    "\n",
    "    data_outlier_summary = pd.merge(data_skewness, data_outlier, on=['feats'])\n",
    "    data_outlier_summary = data_outlier_summary[outlier_summary_cols]\n",
    "\n",
    "    return data_outlier_summary"
   ]
  },
  {
   "cell_type": "code",
   "execution_count": 8,
   "metadata": {
    "id": "HuJda0YTS38t"
   },
   "outputs": [],
   "source": [
    "def impute_na(data, variable, mean_value, median_value):\n",
    "  \"\"\"\n",
    "  Function to Fill Missing Values with Zeroes, Mean, and Median\n",
    "  \"\"\"\n",
    "  data[variable+'_mean'] = data[variable].fillna(mean_value)\n",
    "  data[variable+'_median'] = data[variable].fillna(median_value)\n",
    "  data[variable+'_zero'] = data[variable].fillna(0)\n",
    "  \n",
    "  return data"
   ]
  },
  {
   "cell_type": "code",
   "execution_count": 9,
   "metadata": {},
   "outputs": [],
   "source": [
    "def plot_distribution(data, col, title, xlabel, ylabel, hue=None):\n",
    "    \"\"\"\n",
    "    Plot the distribution of a feature for each death event\n",
    "    Parameters\n",
    "    ----------\n",
    "    data : pandas dataframe\n",
    "        dataframe containing the data\n",
    "    col : string\n",
    "        name of the feature\n",
    "    title : string  \n",
    "        title of the plot\n",
    "    xlabel : string\n",
    "        x-axis label\n",
    "    ylabel : string\n",
    "        y-axis label\n",
    "    hue : string\n",
    "        name of the column to be used for hue\n",
    "\n",
    "    Returns\n",
    "    -------\n",
    "    None\n",
    "    \"\"\"\n",
    "    plt.figure(figsize=(15, 5))\n",
    "    sns.kdeplot(data=data, x=col, hue=hue, shade=True)\n",
    "    plt.title(title)\n",
    "    plt.xlabel(xlabel)\n",
    "    plt.ylabel(ylabel)\n",
    "    plt.yticks([])\n",
    "    plt.legend(labels=['Death', 'No Death'])\n",
    "    plt.show()"
   ]
  },
  {
   "cell_type": "markdown",
   "metadata": {},
   "source": [
    "# 3. Data Loading"
   ]
  },
  {
   "cell_type": "code",
   "execution_count": 10,
   "metadata": {},
   "outputs": [
    {
     "data": {
      "text/html": [
       "<div>\n",
       "<style scoped>\n",
       "    .dataframe tbody tr th:only-of-type {\n",
       "        vertical-align: middle;\n",
       "    }\n",
       "\n",
       "    .dataframe tbody tr th {\n",
       "        vertical-align: top;\n",
       "    }\n",
       "\n",
       "    .dataframe thead th {\n",
       "        text-align: right;\n",
       "    }\n",
       "</style>\n",
       "<table border=\"1\" class=\"dataframe\">\n",
       "  <thead>\n",
       "    <tr style=\"text-align: right;\">\n",
       "      <th></th>\n",
       "      <th>age</th>\n",
       "      <th>anaemia</th>\n",
       "      <th>creatinine_phosphokinase</th>\n",
       "      <th>diabetes</th>\n",
       "      <th>ejection_fraction</th>\n",
       "      <th>high_blood_pressure</th>\n",
       "      <th>platelets</th>\n",
       "      <th>serum_creatinine</th>\n",
       "      <th>serum_sodium</th>\n",
       "      <th>sex</th>\n",
       "      <th>smoking</th>\n",
       "      <th>time</th>\n",
       "      <th>DEATH_EVENT</th>\n",
       "    </tr>\n",
       "  </thead>\n",
       "  <tbody>\n",
       "    <tr>\n",
       "      <th>0</th>\n",
       "      <td>42.0</td>\n",
       "      <td>1</td>\n",
       "      <td>250</td>\n",
       "      <td>1</td>\n",
       "      <td>15</td>\n",
       "      <td>0</td>\n",
       "      <td>213000.0</td>\n",
       "      <td>1.3</td>\n",
       "      <td>136</td>\n",
       "      <td>0</td>\n",
       "      <td>0</td>\n",
       "      <td>65</td>\n",
       "      <td>1</td>\n",
       "    </tr>\n",
       "    <tr>\n",
       "      <th>1</th>\n",
       "      <td>46.0</td>\n",
       "      <td>0</td>\n",
       "      <td>168</td>\n",
       "      <td>1</td>\n",
       "      <td>17</td>\n",
       "      <td>1</td>\n",
       "      <td>271000.0</td>\n",
       "      <td>2.1</td>\n",
       "      <td>124</td>\n",
       "      <td>0</td>\n",
       "      <td>0</td>\n",
       "      <td>100</td>\n",
       "      <td>1</td>\n",
       "    </tr>\n",
       "    <tr>\n",
       "      <th>2</th>\n",
       "      <td>65.0</td>\n",
       "      <td>1</td>\n",
       "      <td>160</td>\n",
       "      <td>1</td>\n",
       "      <td>20</td>\n",
       "      <td>0</td>\n",
       "      <td>327000.0</td>\n",
       "      <td>2.7</td>\n",
       "      <td>116</td>\n",
       "      <td>0</td>\n",
       "      <td>0</td>\n",
       "      <td>8</td>\n",
       "      <td>1</td>\n",
       "    </tr>\n",
       "    <tr>\n",
       "      <th>3</th>\n",
       "      <td>53.0</td>\n",
       "      <td>1</td>\n",
       "      <td>91</td>\n",
       "      <td>0</td>\n",
       "      <td>20</td>\n",
       "      <td>1</td>\n",
       "      <td>418000.0</td>\n",
       "      <td>1.4</td>\n",
       "      <td>139</td>\n",
       "      <td>0</td>\n",
       "      <td>0</td>\n",
       "      <td>43</td>\n",
       "      <td>1</td>\n",
       "    </tr>\n",
       "    <tr>\n",
       "      <th>4</th>\n",
       "      <td>50.0</td>\n",
       "      <td>1</td>\n",
       "      <td>582</td>\n",
       "      <td>1</td>\n",
       "      <td>20</td>\n",
       "      <td>1</td>\n",
       "      <td>279000.0</td>\n",
       "      <td>1.0</td>\n",
       "      <td>134</td>\n",
       "      <td>0</td>\n",
       "      <td>0</td>\n",
       "      <td>186</td>\n",
       "      <td>0</td>\n",
       "    </tr>\n",
       "  </tbody>\n",
       "</table>\n",
       "</div>"
      ],
      "text/plain": [
       "    age  anaemia  creatinine_phosphokinase  diabetes  ejection_fraction  \\\n",
       "0  42.0        1                       250         1                 15   \n",
       "1  46.0        0                       168         1                 17   \n",
       "2  65.0        1                       160         1                 20   \n",
       "3  53.0        1                        91         0                 20   \n",
       "4  50.0        1                       582         1                 20   \n",
       "\n",
       "   high_blood_pressure  platelets  serum_creatinine  serum_sodium  sex  \\\n",
       "0                    0   213000.0               1.3           136    0   \n",
       "1                    1   271000.0               2.1           124    0   \n",
       "2                    0   327000.0               2.7           116    0   \n",
       "3                    1   418000.0               1.4           139    0   \n",
       "4                    1   279000.0               1.0           134    0   \n",
       "\n",
       "   smoking  time  DEATH_EVENT  \n",
       "0        0    65            1  \n",
       "1        0   100            1  \n",
       "2        0     8            1  \n",
       "3        0    43            1  \n",
       "4        0   186            0  "
      ]
     },
     "execution_count": 10,
     "metadata": {},
     "output_type": "execute_result"
    }
   ],
   "source": [
    "# load dataset\n",
    "df_ori = pd.read_csv('data/h8dsft_P1G3_nikki_satmaka.csv')\n",
    "df = df_ori.copy()\n",
    "\n",
    "# display the first 5 entries of the data\n",
    "df.head()"
   ]
  },
  {
   "cell_type": "code",
   "execution_count": 11,
   "metadata": {},
   "outputs": [
    {
     "data": {
      "text/html": [
       "<div>\n",
       "<style scoped>\n",
       "    .dataframe tbody tr th:only-of-type {\n",
       "        vertical-align: middle;\n",
       "    }\n",
       "\n",
       "    .dataframe tbody tr th {\n",
       "        vertical-align: top;\n",
       "    }\n",
       "\n",
       "    .dataframe thead th {\n",
       "        text-align: right;\n",
       "    }\n",
       "</style>\n",
       "<table border=\"1\" class=\"dataframe\">\n",
       "  <thead>\n",
       "    <tr style=\"text-align: right;\">\n",
       "      <th></th>\n",
       "      <th>age</th>\n",
       "      <th>anaemia</th>\n",
       "      <th>creatinine_phosphokinase</th>\n",
       "      <th>diabetes</th>\n",
       "      <th>ejection_fraction</th>\n",
       "      <th>high_blood_pressure</th>\n",
       "      <th>platelets</th>\n",
       "      <th>serum_creatinine</th>\n",
       "      <th>serum_sodium</th>\n",
       "      <th>sex</th>\n",
       "      <th>smoking</th>\n",
       "      <th>time</th>\n",
       "      <th>DEATH_EVENT</th>\n",
       "    </tr>\n",
       "  </thead>\n",
       "  <tbody>\n",
       "    <tr>\n",
       "      <th>294</th>\n",
       "      <td>63.0</td>\n",
       "      <td>1</td>\n",
       "      <td>122</td>\n",
       "      <td>1</td>\n",
       "      <td>60</td>\n",
       "      <td>0</td>\n",
       "      <td>267000.00</td>\n",
       "      <td>1.2</td>\n",
       "      <td>145</td>\n",
       "      <td>1</td>\n",
       "      <td>0</td>\n",
       "      <td>147</td>\n",
       "      <td>0</td>\n",
       "    </tr>\n",
       "    <tr>\n",
       "      <th>295</th>\n",
       "      <td>45.0</td>\n",
       "      <td>0</td>\n",
       "      <td>308</td>\n",
       "      <td>1</td>\n",
       "      <td>60</td>\n",
       "      <td>1</td>\n",
       "      <td>377000.00</td>\n",
       "      <td>1.0</td>\n",
       "      <td>136</td>\n",
       "      <td>1</td>\n",
       "      <td>0</td>\n",
       "      <td>186</td>\n",
       "      <td>0</td>\n",
       "    </tr>\n",
       "    <tr>\n",
       "      <th>296</th>\n",
       "      <td>70.0</td>\n",
       "      <td>0</td>\n",
       "      <td>97</td>\n",
       "      <td>0</td>\n",
       "      <td>60</td>\n",
       "      <td>1</td>\n",
       "      <td>220000.00</td>\n",
       "      <td>0.9</td>\n",
       "      <td>138</td>\n",
       "      <td>1</td>\n",
       "      <td>0</td>\n",
       "      <td>186</td>\n",
       "      <td>0</td>\n",
       "    </tr>\n",
       "    <tr>\n",
       "      <th>297</th>\n",
       "      <td>53.0</td>\n",
       "      <td>1</td>\n",
       "      <td>446</td>\n",
       "      <td>0</td>\n",
       "      <td>60</td>\n",
       "      <td>1</td>\n",
       "      <td>263358.03</td>\n",
       "      <td>1.0</td>\n",
       "      <td>139</td>\n",
       "      <td>1</td>\n",
       "      <td>0</td>\n",
       "      <td>215</td>\n",
       "      <td>0</td>\n",
       "    </tr>\n",
       "    <tr>\n",
       "      <th>298</th>\n",
       "      <td>50.0</td>\n",
       "      <td>0</td>\n",
       "      <td>582</td>\n",
       "      <td>0</td>\n",
       "      <td>62</td>\n",
       "      <td>1</td>\n",
       "      <td>147000.00</td>\n",
       "      <td>0.8</td>\n",
       "      <td>140</td>\n",
       "      <td>1</td>\n",
       "      <td>1</td>\n",
       "      <td>192</td>\n",
       "      <td>0</td>\n",
       "    </tr>\n",
       "  </tbody>\n",
       "</table>\n",
       "</div>"
      ],
      "text/plain": [
       "      age  anaemia  creatinine_phosphokinase  diabetes  ejection_fraction  \\\n",
       "294  63.0        1                       122         1                 60   \n",
       "295  45.0        0                       308         1                 60   \n",
       "296  70.0        0                        97         0                 60   \n",
       "297  53.0        1                       446         0                 60   \n",
       "298  50.0        0                       582         0                 62   \n",
       "\n",
       "     high_blood_pressure  platelets  serum_creatinine  serum_sodium  sex  \\\n",
       "294                    0  267000.00               1.2           145    1   \n",
       "295                    1  377000.00               1.0           136    1   \n",
       "296                    1  220000.00               0.9           138    1   \n",
       "297                    1  263358.03               1.0           139    1   \n",
       "298                    1  147000.00               0.8           140    1   \n",
       "\n",
       "     smoking  time  DEATH_EVENT  \n",
       "294        0   147            0  \n",
       "295        0   186            0  \n",
       "296        0   186            0  \n",
       "297        0   215            0  \n",
       "298        1   192            0  "
      ]
     },
     "execution_count": 11,
     "metadata": {},
     "output_type": "execute_result"
    }
   ],
   "source": [
    "# display the last 5 entries of the data\n",
    "df.tail()"
   ]
  },
  {
   "cell_type": "markdown",
   "metadata": {},
   "source": [
    "## Data Understanding"
   ]
  },
  {
   "cell_type": "code",
   "execution_count": 12,
   "metadata": {},
   "outputs": [
    {
     "data": {
      "text/plain": [
       "(299, 13)"
      ]
     },
     "execution_count": 12,
     "metadata": {},
     "output_type": "execute_result"
    }
   ],
   "source": [
    "# check dataset shape\n",
    "df.shape"
   ]
  },
  {
   "cell_type": "markdown",
   "metadata": {},
   "source": [
    "There are 299 entries and 13 columns of data.\\\n",
    "We do not have a lot of data"
   ]
  },
  {
   "cell_type": "code",
   "execution_count": 13,
   "metadata": {},
   "outputs": [
    {
     "name": "stdout",
     "output_type": "stream",
     "text": [
      "<class 'pandas.core.frame.DataFrame'>\n",
      "RangeIndex: 299 entries, 0 to 298\n",
      "Data columns (total 13 columns):\n",
      " #   Column                    Non-Null Count  Dtype  \n",
      "---  ------                    --------------  -----  \n",
      " 0   age                       299 non-null    float64\n",
      " 1   anaemia                   299 non-null    int64  \n",
      " 2   creatinine_phosphokinase  299 non-null    int64  \n",
      " 3   diabetes                  299 non-null    int64  \n",
      " 4   ejection_fraction         299 non-null    int64  \n",
      " 5   high_blood_pressure       299 non-null    int64  \n",
      " 6   platelets                 299 non-null    float64\n",
      " 7   serum_creatinine          299 non-null    float64\n",
      " 8   serum_sodium              299 non-null    int64  \n",
      " 9   sex                       299 non-null    int64  \n",
      " 10  smoking                   299 non-null    int64  \n",
      " 11  time                      299 non-null    int64  \n",
      " 12  DEATH_EVENT               299 non-null    int64  \n",
      "dtypes: float64(3), int64(10)\n",
      "memory usage: 30.5 KB\n"
     ]
    }
   ],
   "source": [
    "# check dataset info\n",
    "df.info()"
   ]
  },
  {
   "cell_type": "markdown",
   "metadata": {},
   "source": [
    "All data types are number"
   ]
  },
  {
   "cell_type": "code",
   "execution_count": 14,
   "metadata": {},
   "outputs": [
    {
     "data": {
      "text/plain": [
       "age                         0\n",
       "anaemia                     0\n",
       "creatinine_phosphokinase    0\n",
       "diabetes                    0\n",
       "ejection_fraction           0\n",
       "high_blood_pressure         0\n",
       "platelets                   0\n",
       "serum_creatinine            0\n",
       "serum_sodium                0\n",
       "sex                         0\n",
       "smoking                     0\n",
       "time                        0\n",
       "DEATH_EVENT                 0\n",
       "dtype: int64"
      ]
     },
     "execution_count": 14,
     "metadata": {},
     "output_type": "execute_result"
    }
   ],
   "source": [
    "# check missing values in dataset\n",
    "df.isna().sum().sort_values(ascending=False)"
   ]
  },
  {
   "cell_type": "markdown",
   "metadata": {},
   "source": [
    "Great there are no missing values"
   ]
  },
  {
   "cell_type": "markdown",
   "metadata": {},
   "source": [
    "## Basic Characteristics of the Dataset"
   ]
  },
  {
   "cell_type": "code",
   "execution_count": 15,
   "metadata": {},
   "outputs": [
    {
     "data": {
      "text/html": [
       "<div>\n",
       "<style scoped>\n",
       "    .dataframe tbody tr th:only-of-type {\n",
       "        vertical-align: middle;\n",
       "    }\n",
       "\n",
       "    .dataframe tbody tr th {\n",
       "        vertical-align: top;\n",
       "    }\n",
       "\n",
       "    .dataframe thead th {\n",
       "        text-align: right;\n",
       "    }\n",
       "</style>\n",
       "<table border=\"1\" class=\"dataframe\">\n",
       "  <thead>\n",
       "    <tr style=\"text-align: right;\">\n",
       "      <th></th>\n",
       "      <th>count</th>\n",
       "      <th>mean</th>\n",
       "      <th>std</th>\n",
       "      <th>min</th>\n",
       "      <th>50%</th>\n",
       "      <th>max</th>\n",
       "    </tr>\n",
       "  </thead>\n",
       "  <tbody>\n",
       "    <tr>\n",
       "      <th>age</th>\n",
       "      <td>299.0</td>\n",
       "      <td>60.83</td>\n",
       "      <td>11.89</td>\n",
       "      <td>40.0</td>\n",
       "      <td>60.0</td>\n",
       "      <td>95.0</td>\n",
       "    </tr>\n",
       "    <tr>\n",
       "      <th>anaemia</th>\n",
       "      <td>299.0</td>\n",
       "      <td>0.43</td>\n",
       "      <td>0.50</td>\n",
       "      <td>0.0</td>\n",
       "      <td>0.0</td>\n",
       "      <td>1.0</td>\n",
       "    </tr>\n",
       "    <tr>\n",
       "      <th>creatinine_phosphokinase</th>\n",
       "      <td>299.0</td>\n",
       "      <td>581.84</td>\n",
       "      <td>970.29</td>\n",
       "      <td>23.0</td>\n",
       "      <td>250.0</td>\n",
       "      <td>7861.0</td>\n",
       "    </tr>\n",
       "    <tr>\n",
       "      <th>diabetes</th>\n",
       "      <td>299.0</td>\n",
       "      <td>0.42</td>\n",
       "      <td>0.49</td>\n",
       "      <td>0.0</td>\n",
       "      <td>0.0</td>\n",
       "      <td>1.0</td>\n",
       "    </tr>\n",
       "    <tr>\n",
       "      <th>ejection_fraction</th>\n",
       "      <td>299.0</td>\n",
       "      <td>38.08</td>\n",
       "      <td>11.83</td>\n",
       "      <td>14.0</td>\n",
       "      <td>38.0</td>\n",
       "      <td>80.0</td>\n",
       "    </tr>\n",
       "    <tr>\n",
       "      <th>high_blood_pressure</th>\n",
       "      <td>299.0</td>\n",
       "      <td>0.35</td>\n",
       "      <td>0.48</td>\n",
       "      <td>0.0</td>\n",
       "      <td>0.0</td>\n",
       "      <td>1.0</td>\n",
       "    </tr>\n",
       "    <tr>\n",
       "      <th>platelets</th>\n",
       "      <td>299.0</td>\n",
       "      <td>263358.03</td>\n",
       "      <td>97804.24</td>\n",
       "      <td>25100.0</td>\n",
       "      <td>262000.0</td>\n",
       "      <td>850000.0</td>\n",
       "    </tr>\n",
       "    <tr>\n",
       "      <th>serum_creatinine</th>\n",
       "      <td>299.0</td>\n",
       "      <td>1.39</td>\n",
       "      <td>1.03</td>\n",
       "      <td>0.5</td>\n",
       "      <td>1.1</td>\n",
       "      <td>9.4</td>\n",
       "    </tr>\n",
       "    <tr>\n",
       "      <th>serum_sodium</th>\n",
       "      <td>299.0</td>\n",
       "      <td>136.63</td>\n",
       "      <td>4.41</td>\n",
       "      <td>113.0</td>\n",
       "      <td>137.0</td>\n",
       "      <td>148.0</td>\n",
       "    </tr>\n",
       "    <tr>\n",
       "      <th>sex</th>\n",
       "      <td>299.0</td>\n",
       "      <td>0.65</td>\n",
       "      <td>0.48</td>\n",
       "      <td>0.0</td>\n",
       "      <td>1.0</td>\n",
       "      <td>1.0</td>\n",
       "    </tr>\n",
       "    <tr>\n",
       "      <th>smoking</th>\n",
       "      <td>299.0</td>\n",
       "      <td>0.32</td>\n",
       "      <td>0.47</td>\n",
       "      <td>0.0</td>\n",
       "      <td>0.0</td>\n",
       "      <td>1.0</td>\n",
       "    </tr>\n",
       "    <tr>\n",
       "      <th>time</th>\n",
       "      <td>299.0</td>\n",
       "      <td>130.26</td>\n",
       "      <td>77.61</td>\n",
       "      <td>4.0</td>\n",
       "      <td>115.0</td>\n",
       "      <td>285.0</td>\n",
       "    </tr>\n",
       "    <tr>\n",
       "      <th>DEATH_EVENT</th>\n",
       "      <td>299.0</td>\n",
       "      <td>0.32</td>\n",
       "      <td>0.47</td>\n",
       "      <td>0.0</td>\n",
       "      <td>0.0</td>\n",
       "      <td>1.0</td>\n",
       "    </tr>\n",
       "  </tbody>\n",
       "</table>\n",
       "</div>"
      ],
      "text/plain": [
       "                          count       mean       std      min       50%  \\\n",
       "age                       299.0      60.83     11.89     40.0      60.0   \n",
       "anaemia                   299.0       0.43      0.50      0.0       0.0   \n",
       "creatinine_phosphokinase  299.0     581.84    970.29     23.0     250.0   \n",
       "diabetes                  299.0       0.42      0.49      0.0       0.0   \n",
       "ejection_fraction         299.0      38.08     11.83     14.0      38.0   \n",
       "high_blood_pressure       299.0       0.35      0.48      0.0       0.0   \n",
       "platelets                 299.0  263358.03  97804.24  25100.0  262000.0   \n",
       "serum_creatinine          299.0       1.39      1.03      0.5       1.1   \n",
       "serum_sodium              299.0     136.63      4.41    113.0     137.0   \n",
       "sex                       299.0       0.65      0.48      0.0       1.0   \n",
       "smoking                   299.0       0.32      0.47      0.0       0.0   \n",
       "time                      299.0     130.26     77.61      4.0     115.0   \n",
       "DEATH_EVENT               299.0       0.32      0.47      0.0       0.0   \n",
       "\n",
       "                               max  \n",
       "age                           95.0  \n",
       "anaemia                        1.0  \n",
       "creatinine_phosphokinase    7861.0  \n",
       "diabetes                       1.0  \n",
       "ejection_fraction             80.0  \n",
       "high_blood_pressure            1.0  \n",
       "platelets                 850000.0  \n",
       "serum_creatinine               9.4  \n",
       "serum_sodium                 148.0  \n",
       "sex                            1.0  \n",
       "smoking                        1.0  \n",
       "time                         285.0  \n",
       "DEATH_EVENT                    1.0  "
      ]
     },
     "execution_count": 15,
     "metadata": {},
     "output_type": "execute_result"
    }
   ],
   "source": [
    "# check basic stats for numerical features\n",
    "df.describe(percentiles=[0.5]).T"
   ]
  },
  {
   "cell_type": "code",
   "execution_count": 16,
   "metadata": {},
   "outputs": [
    {
     "name": "stdout",
     "output_type": "stream",
     "text": [
      "anaemia : 2 unique values, which contains [0 1]\n",
      "diabetes : 2 unique values, which contains [0 1]\n",
      "high_blood_pressure : 2 unique values, which contains [0 1]\n",
      "sex : 2 unique values, which contains [0 1]\n",
      "smoking : 2 unique values, which contains [0 1]\n",
      "DEATH_EVENT : 2 unique values, which contains [0 1]\n"
     ]
    }
   ],
   "source": [
    "# check the cardinality of each nominal and ordinal features\n",
    "for col in df.columns:\n",
    "    if df[col].nunique() < 15:\n",
    "        print(col, ':', df[col].nunique(), 'unique values, which contains', np.sort(df[col].unique()))"
   ]
  },
  {
   "cell_type": "markdown",
   "metadata": {},
   "source": [
    "Let's cover some of the columns of this dataset\n",
    "- `age`\n",
    "    - Ranges from 40 to 95\n",
    "    - Interval feature\n",
    "    - Mean is only slightly higer than the median\n",
    "    - Might be normally distributed\n",
    "- `anaemia`\n",
    "    - Nominal feature\n",
    "    - Since it's either 0 or 1 and the median of the data is 0, the mode is also 0\n",
    "    - Most of the patients do not have anaemia\n",
    "- `creatinine_phosphokinase`\n",
    "    - Ranges from 23 to 7861\n",
    "    - Interval feature\n",
    "    - Mean is way higher than the median by a long shot\n",
    "    - Data is heavily right skewed\n",
    "- `diabetes`\n",
    "    - Nominal feature\n",
    "    - Since it's either 0 or 1 and the median of the data is 0, the mode is also 0\n",
    "    - Most patients do not have diabetes\n",
    "- `ejection_fraction`\n",
    "    - In percentages\n",
    "    - Ranges from 14 to 80\n",
    "    - Interval feature\n",
    "    - Mean is only slightly higer than the median\n",
    "    - Might be normally distributed\n",
    "- `high_blood_pressure`\n",
    "    - Nominal feature\n",
    "    - Since it's either 0 or 1 and the median of the data is 0, the mode is also 0\n",
    "    - Most patients do not have high blood pressure\n",
    "- `platelets`\n",
    "    - in kiloplatelets/mL\n",
    "    - Ranges from 25,100 to 850,000\n",
    "    - Interval feature\n",
    "    - The mean is only slightly higher than the median\n",
    "    - Might be normally distributed\n",
    "- `serum_creatinine`\n",
    "    - Ranges from 0.5 to 9.4\n",
    "    - Interval feature\n",
    "    - The mean is higher than the median\n",
    "    - Might be right skewed\n",
    "- `serum_sodium`\n",
    "    - Ranges from 113 to 148\n",
    "    - Interval feature\n",
    "    - The mean is higher than the median\n",
    "    - Might be right skewed\n",
    "- ` sex`\n",
    "    - Nominal feature\n",
    "    - 0 for woman and 1 for man\n",
    "    - Since it's either 0 or 1 and the median of the data is 1, the mode is also 1\n",
    "    - Most patients are man\n",
    "- `smoking`\n",
    "    - Nominal feature\n",
    "    - Since it's either 0 or 1 and the median of the data is 0, the mode is also 0\n",
    "    - Most patients do not smoke\n",
    "- `time`\n",
    "    - In days\n",
    "    - Ranges from 4 to 285 days\n",
    "    - Mean is higher than the median\n",
    "    - Might be right skewed\n",
    "- `DEATH_EVENT`\n",
    "    - Our target\n",
    "    - Whether the patient died during the follow up period\n",
    "    - Since it's either 0 or 1 and the median of the data is 0, the mode is also 0\n",
    "    - Most patients did not die during the follow up period\n",
    "    - I do not like how this column is written in caps, I'm going to make it lowercase"
   ]
  },
  {
   "cell_type": "markdown",
   "metadata": {},
   "source": [
    "## Data Preparation\n",
    "\n",
    "Make all columns in lowercase"
   ]
  },
  {
   "cell_type": "code",
   "execution_count": 17,
   "metadata": {},
   "outputs": [
    {
     "name": "stdout",
     "output_type": "stream",
     "text": [
      "['age', 'anaemia', 'creatinine_phosphokinase', 'diabetes', 'ejection_fraction', 'high_blood_pressure', 'platelets', 'serum_creatinine', 'serum_sodium', 'sex', 'smoking', 'time', 'death_event']\n"
     ]
    }
   ],
   "source": [
    "df.columns = df.columns.str.lower()\n",
    "\n",
    "print(df.columns.to_list())"
   ]
  },
  {
   "cell_type": "markdown",
   "metadata": {},
   "source": [
    "Looks great"
   ]
  },
  {
   "cell_type": "markdown",
   "metadata": {},
   "source": [
    "## Check for Dataset Imbalance\n",
    "\n",
    "Check whether the target variable of the dataset is balance"
   ]
  },
  {
   "cell_type": "code",
   "execution_count": 18,
   "metadata": {},
   "outputs": [
    {
     "data": {
      "image/png": "[encoded data removed]",
      "text/plain": [
       "<Figure size 432x288 with 1 Axes>"
      ]
     },
     "metadata": {
      "needs_background": "light"
     },
     "output_type": "display_data"
    }
   ],
   "source": [
    "# check for imbalance in target variable\n",
    "df['death_event'].value_counts().plot(kind='bar')\n",
    "plt.show()"
   ]
  },
  {
   "cell_type": "markdown",
   "metadata": {},
   "source": [
    "Since our dataset is imbalance, we need to stratify when splitting"
   ]
  },
  {
   "cell_type": "markdown",
   "metadata": {},
   "source": [
    "## Splitting Dataset\n",
    "\n",
    "We need to split the dataset into inference, train and test sets before we do any EDA.\\\n",
    "We do our EDA on the train set so as to not have any bias towards the whole dataset."
   ]
  },
  {
   "cell_type": "markdown",
   "metadata": {},
   "source": [
    "### Sample data for inference"
   ]
  },
  {
   "cell_type": "code",
   "execution_count": 19,
   "metadata": {},
   "outputs": [],
   "source": [
    "# set random state\n",
    "random_state = 42"
   ]
  },
  {
   "cell_type": "code",
   "execution_count": 20,
   "metadata": {},
   "outputs": [
    {
     "name": "stdout",
     "output_type": "stream",
     "text": [
      "df_inf Size: (10, 13)\n"
     ]
    }
   ],
   "source": [
    "# sample dataset for inference\n",
    "df_inf = df.sample(10, random_state=random_state)\n",
    "\n",
    "# remove inference set from original dataset\n",
    "df_train_test = df.drop(df_inf.index).reset_index(drop=True)\n",
    "\n",
    "# reset index for inference set\n",
    "df_inf = df_inf.reset_index(drop=True)\n",
    "\n",
    "print('df_inf Size:', df_inf.shape)"
   ]
  },
  {
   "cell_type": "markdown",
   "metadata": {},
   "source": [
    "### Split train and test set\n",
    "\n",
    "\n",
    "Since the target variable is imbalanced, we use stratified sampling"
   ]
  },
  {
   "cell_type": "code",
   "execution_count": 21,
   "metadata": {},
   "outputs": [
    {
     "name": "stdout",
     "output_type": "stream",
     "text": [
      "df_train Size: (231, 13)\n",
      "df_test Size: (58, 13)\n"
     ]
    }
   ],
   "source": [
    "# we use stratified sampling to ensure that the distribution of the target variable is balanced\n",
    "df_train, df_test = train_test_split(\n",
    "    df_train_test,\n",
    "    test_size=0.20,\n",
    "    random_state=random_state,\n",
    "    stratify=df_train_test['death_event']\n",
    ")\n",
    "\n",
    "print('df_train Size:', df_train.shape)\n",
    "print('df_test Size:', df_test.shape)"
   ]
  },
  {
   "cell_type": "code",
   "execution_count": 22,
   "metadata": {},
   "outputs": [],
   "source": [
    "# backup the train set that we are gonna perform EDA on\n",
    "df_train_ori = df_train.copy()"
   ]
  },
  {
   "cell_type": "markdown",
   "metadata": {},
   "source": [
    "# 4. Exploratory Data Analysis"
   ]
  },
  {
   "cell_type": "markdown",
   "metadata": {},
   "source": [
    "## Source of dataset\n",
    "\n",
    "The dataset seems to have come from [BMC](https://bmcmedinformdecismak.biomedcentral.com/articles/10.1186/s12911-020-1023-5)"
   ]
  },
  {
   "cell_type": "markdown",
   "metadata": {},
   "source": [
    "## Follow-up Period and Death Event"
   ]
  },
  {
   "cell_type": "code",
   "execution_count": 23,
   "metadata": {},
   "outputs": [
    {
     "data": {
      "image/png": "[encoded data removed]",
      "text/plain": [
       "<Figure size 360x576 with 1 Axes>"
      ]
     },
     "metadata": {
      "needs_background": "light"
     },
     "output_type": "display_data"
    }
   ],
   "source": [
    "# plot the distribution of follow up period for each death event\n",
    "plt.figure(figsize=(5, 8))\n",
    "sns.boxplot(data=df_train, x='death_event', y='time')\n",
    "plt.title('Distribution of follow up period for each death event')\n",
    "plt.xlabel(None)\n",
    "plt.ylabel('Days')\n",
    "plt.xticks([0, 1], ['No Death', 'Death'])\n",
    "\n",
    "plt.show()"
   ]
  },
  {
   "cell_type": "markdown",
   "metadata": {},
   "source": [
    "We can see that the case of decease, happened mostly within the 50-day-mark. Most patients who did not pass away, survived and could attend the follow up period until around 200 days. I assume that after this safe mark, the follow up period is performed less frequently"
   ]
  },
  {
   "cell_type": "code",
   "execution_count": 24,
   "metadata": {},
   "outputs": [
    {
     "data": {
      "image/png": "[encoded data removed]",
      "text/plain": [
       "<Figure size 1080x360 with 1 Axes>"
      ]
     },
     "metadata": {
      "needs_background": "light"
     },
     "output_type": "display_data"
    }
   ],
   "source": [
    "# plot the distribution of follow up period for each death event\n",
    "plot_distribution(\n",
    "    data=df_train,\n",
    "    col='time',\n",
    "    title='Distribution of follow up period for each death event',\n",
    "    xlabel='Days',\n",
    "    ylabel=None,\n",
    "    hue='death_event'\n",
    ")"
   ]
  },
  {
   "cell_type": "markdown",
   "metadata": {},
   "source": [
    "We could see in more detail by plotting the time in the horizontal axis. The same insights for the deceased that it happens mostly around the 50-day-follow-up-period. There is however two bulges for the survivors, where they were followed up until around 100 days and 200 days. We could conclude that the crucial period to monitor is within those 50-day-period where the event of decease mostly happen"
   ]
  },
  {
   "cell_type": "markdown",
   "metadata": {},
   "source": [
    "## Age and Death Event"
   ]
  },
  {
   "cell_type": "code",
   "execution_count": 25,
   "metadata": {},
   "outputs": [
    {
     "data": {
      "image/png": "[encoded data removed]",
      "text/plain": [
       "<Figure size 1080x360 with 1 Axes>"
      ]
     },
     "metadata": {
      "needs_background": "light"
     },
     "output_type": "display_data"
    }
   ],
   "source": [
    "# plot the distribution of age for each death event\n",
    "plot_distribution(\n",
    "    data=df_train,\n",
    "    col='age',\n",
    "    title='Distribution of age for each death event',\n",
    "    xlabel='Age',\n",
    "    ylabel=None,\n",
    "    hue='death_event'\n",
    ")"
   ]
  },
  {
   "cell_type": "markdown",
   "metadata": {},
   "source": [
    "The age distribution is quite similar between the deceased and not deceased patients, however we tend to have more bulge of the profile around the 50-year-old-mark for the not deceased patients. It seems like the younger patients have a bigger chance of surviving. This can also be seen by the steep slope on the right side of the profile for the not deceased, while the deceased have a more modest slope."
   ]
  },
  {
   "cell_type": "markdown",
   "metadata": {},
   "source": [
    "## CPK Enzyme and Death Event"
   ]
  },
  {
   "cell_type": "code",
   "execution_count": 26,
   "metadata": {},
   "outputs": [
    {
     "data": {
      "image/png": "[encoded data removed]",
      "text/plain": [
       "<Figure size 1080x360 with 1 Axes>"
      ]
     },
     "metadata": {
      "needs_background": "light"
     },
     "output_type": "display_data"
    }
   ],
   "source": [
    "# plot distribution of creatinine phosphokinase for each death event\n",
    "plot_distribution(\n",
    "    data=df_train,\n",
    "    col='creatinine_phosphokinase',\n",
    "    title='Distribution of CBK enzyme level for each death event',\n",
    "    xlabel='Level of CPK enzyme (mcg/L)',\n",
    "    ylabel=None,\n",
    "    hue='death_event'\n",
    ")\n"
   ]
  },
  {
   "cell_type": "markdown",
   "metadata": {},
   "source": [
    "There's not much of a difference between the profile for the deceased and the not deceased in terms of the mode. However, the not deceased has a much steeper slope. That means that the CPK enzyme is much more varied for the deceased, as can also be seen by the outlier located far on the right"
   ]
  },
  {
   "cell_type": "markdown",
   "metadata": {},
   "source": [
    "## Ejection Fraction and Death Event"
   ]
  },
  {
   "cell_type": "code",
   "execution_count": 27,
   "metadata": {},
   "outputs": [
    {
     "data": {
      "image/png": "[encoded data removed]",
      "text/plain": [
       "<Figure size 1080x360 with 1 Axes>"
      ]
     },
     "metadata": {
      "needs_background": "light"
     },
     "output_type": "display_data"
    }
   ],
   "source": [
    "# plot distribution of ejection fraction for each death event\n",
    "plot_distribution(\n",
    "    data=df_train,\n",
    "    col='ejection_fraction',\n",
    "    title='Distribution of ejection fraction for each death event',\n",
    "    xlabel='Ejection fraction',\n",
    "    ylabel=None,\n",
    "    hue='death_event'\n",
    ")"
   ]
  },
  {
   "cell_type": "markdown",
   "metadata": {},
   "source": [
    "We can see that the distribution for the deceased and not deceased are different. The deceased has a much modest slope, meanwhile, the not deceased has a steeper slope, and in general has a higher ejection fraction compared to the deceased."
   ]
  },
  {
   "cell_type": "markdown",
   "metadata": {},
   "source": [
    "## Serum Creatinine and Death Event"
   ]
  },
  {
   "cell_type": "code",
   "execution_count": 28,
   "metadata": {},
   "outputs": [
    {
     "data": {
      "image/png": "[encoded data removed]",
      "text/plain": [
       "<Figure size 1080x360 with 1 Axes>"
      ]
     },
     "metadata": {
      "needs_background": "light"
     },
     "output_type": "display_data"
    }
   ],
   "source": [
    "# plot distribution of serum creatinine for each death event\n",
    "plot_distribution(\n",
    "    data=df_train,\n",
    "    col='serum_creatinine',\n",
    "    title='Distribution of serum creatinine level for each death event',\n",
    "    xlabel='Serum creatinine (mg/dL)',\n",
    "    ylabel=None,\n",
    "    hue='death_event'\n",
    ")"
   ]
  },
  {
   "cell_type": "markdown",
   "metadata": {},
   "source": [
    "The mode of the profile is quite similar for the serum creatinine. It's just that the not deceased is more focused with the steeper slope, as the serum creatinine is more varied on the deceased, as can be seen that there are outlier on the right side."
   ]
  },
  {
   "cell_type": "markdown",
   "metadata": {},
   "source": [
    "## Serum Sodium and Death Event"
   ]
  },
  {
   "cell_type": "code",
   "execution_count": 29,
   "metadata": {},
   "outputs": [
    {
     "data": {
      "image/png": "[encoded data removed]",
      "text/plain": [
       "<Figure size 1080x360 with 1 Axes>"
      ]
     },
     "metadata": {
      "needs_background": "light"
     },
     "output_type": "display_data"
    }
   ],
   "source": [
    "# plot distribution of serum sodium for each death event\n",
    "plot_distribution(\n",
    "    data=df_train,\n",
    "    col='serum_sodium',\n",
    "    title='Distribution of serum sodium level for each death event',\n",
    "    xlabel='Serum sodium (mEq/L)',\n",
    "    ylabel=None,\n",
    "    hue='death_event'\n",
    ")"
   ]
  },
  {
   "cell_type": "markdown",
   "metadata": {},
   "source": [
    "We could see that the bulge of the distribution for the not deceased tends to be higher on the serum sodium scale. This could mean that people who have higher level of serum sodium in the blood tend to have a higher probability of surviving"
   ]
  },
  {
   "cell_type": "markdown",
   "metadata": {},
   "source": [
    "# 5. Data Preprocessing"
   ]
  },
  {
   "cell_type": "code",
   "execution_count": 30,
   "metadata": {},
   "outputs": [],
   "source": [
    "# restore the train set from the backup\n",
    "df_train = df_train_ori.copy()"
   ]
  },
  {
   "cell_type": "code",
   "execution_count": 31,
   "metadata": {},
   "outputs": [],
   "source": [
    "# split between features and target\n",
    "X_train = df_train.drop(['death_event'], axis=1)\n",
    "y_train = df_train['death_event'].copy()\n",
    "\n",
    "X_test = df_test.drop(['death_event'], axis=1)\n",
    "y_test = df_test['death_event'].copy()"
   ]
  },
  {
   "cell_type": "markdown",
   "metadata": {},
   "source": [
    "## Categorizing Features\n",
    "\n",
    "Categorize the features based on the variable type of the features and the data it represents\n",
    "- Numeric (Interval): Features which have equally spaced interval between unique values\n",
    "- Categorical (Nominal): Features which have no intrinsic ordering to the unique values\n",
    "- Ordinal: Features which have clear ordering but do not have equally spaced intervals between unique values"
   ]
  },
  {
   "cell_type": "code",
   "execution_count": 32,
   "metadata": {},
   "outputs": [],
   "source": [
    "# categorizing features\n",
    "num_cols = [\n",
    "    'age',\n",
    "    'creatinine_phosphokinase',\n",
    "    'ejection_fraction',\n",
    "    'platelets',\n",
    "    'serum_creatinine',\n",
    "    'serum_sodium',\n",
    "    'time'\n",
    "]\n",
    "\n",
    "nom_cols = ['anaemia', 'diabetes', 'high_blood_pressure', 'sex', 'smoking']"
   ]
  },
  {
   "cell_type": "markdown",
   "metadata": {},
   "source": [
    "## Handling Outliers"
   ]
  },
  {
   "cell_type": "code",
   "execution_count": 33,
   "metadata": {},
   "outputs": [
    {
     "data": {
      "text/html": [
       "<div>\n",
       "<style scoped>\n",
       "    .dataframe tbody tr th:only-of-type {\n",
       "        vertical-align: middle;\n",
       "    }\n",
       "\n",
       "    .dataframe tbody tr th {\n",
       "        vertical-align: top;\n",
       "    }\n",
       "\n",
       "    .dataframe thead th {\n",
       "        text-align: right;\n",
       "    }\n",
       "</style>\n",
       "<table border=\"1\" class=\"dataframe\">\n",
       "  <thead>\n",
       "    <tr style=\"text-align: right;\">\n",
       "      <th></th>\n",
       "      <th>feats</th>\n",
       "      <th>skew</th>\n",
       "      <th>dist</th>\n",
       "      <th>tot_outlier</th>\n",
       "      <th>tot_outlier_pct</th>\n",
       "    </tr>\n",
       "  </thead>\n",
       "  <tbody>\n",
       "    <tr>\n",
       "      <th>0</th>\n",
       "      <td>age</td>\n",
       "      <td>0.49</td>\n",
       "      <td>normal</td>\n",
       "      <td>0</td>\n",
       "      <td>0.00</td>\n",
       "    </tr>\n",
       "    <tr>\n",
       "      <th>1</th>\n",
       "      <td>creatinine_phosphokinase</td>\n",
       "      <td>5.04</td>\n",
       "      <td>skewed</td>\n",
       "      <td>20</td>\n",
       "      <td>8.66</td>\n",
       "    </tr>\n",
       "    <tr>\n",
       "      <th>2</th>\n",
       "      <td>ejection_fraction</td>\n",
       "      <td>0.69</td>\n",
       "      <td>skewed</td>\n",
       "      <td>26</td>\n",
       "      <td>11.26</td>\n",
       "    </tr>\n",
       "    <tr>\n",
       "      <th>3</th>\n",
       "      <td>platelets</td>\n",
       "      <td>0.94</td>\n",
       "      <td>skewed</td>\n",
       "      <td>14</td>\n",
       "      <td>6.06</td>\n",
       "    </tr>\n",
       "    <tr>\n",
       "      <th>4</th>\n",
       "      <td>serum_creatinine</td>\n",
       "      <td>4.56</td>\n",
       "      <td>skewed</td>\n",
       "      <td>20</td>\n",
       "      <td>8.66</td>\n",
       "    </tr>\n",
       "    <tr>\n",
       "      <th>5</th>\n",
       "      <td>serum_sodium</td>\n",
       "      <td>-0.96</td>\n",
       "      <td>skewed</td>\n",
       "      <td>2</td>\n",
       "      <td>0.87</td>\n",
       "    </tr>\n",
       "    <tr>\n",
       "      <th>6</th>\n",
       "      <td>time</td>\n",
       "      <td>0.10</td>\n",
       "      <td>normal</td>\n",
       "      <td>0</td>\n",
       "      <td>0.00</td>\n",
       "    </tr>\n",
       "  </tbody>\n",
       "</table>\n",
       "</div>"
      ],
      "text/plain": [
       "                      feats  skew    dist  tot_outlier  tot_outlier_pct\n",
       "0                       age  0.49  normal            0             0.00\n",
       "1  creatinine_phosphokinase  5.04  skewed           20             8.66\n",
       "2         ejection_fraction  0.69  skewed           26            11.26\n",
       "3                 platelets  0.94  skewed           14             6.06\n",
       "4          serum_creatinine  4.56  skewed           20             8.66\n",
       "5              serum_sodium -0.96  skewed            2             0.87\n",
       "6                      time  0.10  normal            0             0.00"
      ]
     },
     "execution_count": 33,
     "metadata": {},
     "output_type": "execute_result"
    }
   ],
   "source": [
    "# check outlier summary only on numerical features\n",
    "outlier_summary(X_train[num_cols], 1.5)"
   ]
  },
  {
   "cell_type": "markdown",
   "metadata": {},
   "source": [
    "1. `Trimming`: if outliers' percentage < 5%\n",
    "2. `Capping`: if outliers' percentage 5% - 15%\n",
    "3. `None`: if outliers' percentage > 15%"
   ]
  },
  {
   "cell_type": "code",
   "execution_count": 34,
   "metadata": {},
   "outputs": [
    {
     "data": {
      "text/html": [
       "<div>\n",
       "<style scoped>\n",
       "    .dataframe tbody tr th:only-of-type {\n",
       "        vertical-align: middle;\n",
       "    }\n",
       "\n",
       "    .dataframe tbody tr th {\n",
       "        vertical-align: top;\n",
       "    }\n",
       "\n",
       "    .dataframe thead th {\n",
       "        text-align: right;\n",
       "    }\n",
       "</style>\n",
       "<table border=\"1\" class=\"dataframe\">\n",
       "  <thead>\n",
       "    <tr style=\"text-align: right;\">\n",
       "      <th></th>\n",
       "      <th>feats</th>\n",
       "      <th>upper_bound</th>\n",
       "      <th>lower_bound</th>\n",
       "      <th>tot_right_tail</th>\n",
       "      <th>tot_left_tail</th>\n",
       "      <th>tot_right_tail_pct</th>\n",
       "      <th>tot_left_tail_pct</th>\n",
       "      <th>tot_outlier</th>\n",
       "      <th>tot_outlier_pct</th>\n",
       "    </tr>\n",
       "  </thead>\n",
       "  <tbody>\n",
       "    <tr>\n",
       "      <th>0</th>\n",
       "      <td>age</td>\n",
       "      <td>95.79</td>\n",
       "      <td>25.62</td>\n",
       "      <td>0</td>\n",
       "      <td>0</td>\n",
       "      <td>0.00</td>\n",
       "      <td>0.00</td>\n",
       "      <td>0</td>\n",
       "      <td>0.00</td>\n",
       "    </tr>\n",
       "    <tr>\n",
       "      <th>1</th>\n",
       "      <td>creatinine_phosphokinase</td>\n",
       "      <td>1285.50</td>\n",
       "      <td>-590.50</td>\n",
       "      <td>20</td>\n",
       "      <td>0</td>\n",
       "      <td>8.66</td>\n",
       "      <td>0.00</td>\n",
       "      <td>20</td>\n",
       "      <td>8.66</td>\n",
       "    </tr>\n",
       "    <tr>\n",
       "      <th>2</th>\n",
       "      <td>ejection_fraction</td>\n",
       "      <td>55.00</td>\n",
       "      <td>15.00</td>\n",
       "      <td>26</td>\n",
       "      <td>0</td>\n",
       "      <td>11.26</td>\n",
       "      <td>0.00</td>\n",
       "      <td>26</td>\n",
       "      <td>11.26</td>\n",
       "    </tr>\n",
       "    <tr>\n",
       "      <th>3</th>\n",
       "      <td>platelets</td>\n",
       "      <td>445500.00</td>\n",
       "      <td>69500.00</td>\n",
       "      <td>10</td>\n",
       "      <td>4</td>\n",
       "      <td>4.33</td>\n",
       "      <td>1.73</td>\n",
       "      <td>14</td>\n",
       "      <td>6.06</td>\n",
       "    </tr>\n",
       "    <tr>\n",
       "      <th>4</th>\n",
       "      <td>serum_creatinine</td>\n",
       "      <td>2.27</td>\n",
       "      <td>0.08</td>\n",
       "      <td>20</td>\n",
       "      <td>0</td>\n",
       "      <td>8.66</td>\n",
       "      <td>0.00</td>\n",
       "      <td>20</td>\n",
       "      <td>8.66</td>\n",
       "    </tr>\n",
       "    <tr>\n",
       "      <th>5</th>\n",
       "      <td>serum_sodium</td>\n",
       "      <td>149.00</td>\n",
       "      <td>125.00</td>\n",
       "      <td>0</td>\n",
       "      <td>2</td>\n",
       "      <td>0.00</td>\n",
       "      <td>0.87</td>\n",
       "      <td>2</td>\n",
       "      <td>0.87</td>\n",
       "    </tr>\n",
       "    <tr>\n",
       "      <th>6</th>\n",
       "      <td>time</td>\n",
       "      <td>370.85</td>\n",
       "      <td>-106.04</td>\n",
       "      <td>0</td>\n",
       "      <td>0</td>\n",
       "      <td>0.00</td>\n",
       "      <td>0.00</td>\n",
       "      <td>0</td>\n",
       "      <td>0.00</td>\n",
       "    </tr>\n",
       "  </tbody>\n",
       "</table>\n",
       "</div>"
      ],
      "text/plain": [
       "                      feats  upper_bound  lower_bound  tot_right_tail  \\\n",
       "0                       age        95.79        25.62               0   \n",
       "1  creatinine_phosphokinase      1285.50      -590.50              20   \n",
       "2         ejection_fraction        55.00        15.00              26   \n",
       "3                 platelets    445500.00     69500.00              10   \n",
       "4          serum_creatinine         2.27         0.08              20   \n",
       "5              serum_sodium       149.00       125.00               0   \n",
       "6                      time       370.85      -106.04               0   \n",
       "\n",
       "   tot_left_tail  tot_right_tail_pct  tot_left_tail_pct  tot_outlier  \\\n",
       "0              0                0.00               0.00            0   \n",
       "1              0                8.66               0.00           20   \n",
       "2              0               11.26               0.00           26   \n",
       "3              4                4.33               1.73           14   \n",
       "4              0                8.66               0.00           20   \n",
       "5              2                0.00               0.87            2   \n",
       "6              0                0.00               0.00            0   \n",
       "\n",
       "   tot_outlier_pct  \n",
       "0             0.00  \n",
       "1             8.66  \n",
       "2            11.26  \n",
       "3             6.06  \n",
       "4             8.66  \n",
       "5             0.87  \n",
       "6             0.00  "
      ]
     },
     "execution_count": 34,
     "metadata": {},
     "output_type": "execute_result"
    }
   ],
   "source": [
    "# check outlier details\n",
    "check_outlier(X_train[num_cols], 1.5)"
   ]
  },
  {
   "cell_type": "markdown",
   "metadata": {},
   "source": [
    "Observing the dataset, I've decided that I'm not going to handle the outlier manually and instead will use *RobustScaler* to handle and scale the skewed dataset\\\n",
    "I've actually tested out a couple different combinations using *winsorization, minmax scaling, and standard scaling*, and found that using *robust scaling* yielded a higher score"
   ]
  },
  {
   "cell_type": "markdown",
   "metadata": {},
   "source": [
    "## Handling Missing Values"
   ]
  },
  {
   "cell_type": "code",
   "execution_count": 35,
   "metadata": {},
   "outputs": [
    {
     "data": {
      "text/plain": [
       "age                         0\n",
       "anaemia                     0\n",
       "creatinine_phosphokinase    0\n",
       "diabetes                    0\n",
       "ejection_fraction           0\n",
       "high_blood_pressure         0\n",
       "platelets                   0\n",
       "serum_creatinine            0\n",
       "serum_sodium                0\n",
       "sex                         0\n",
       "smoking                     0\n",
       "time                        0\n",
       "dtype: int64"
      ]
     },
     "execution_count": 35,
     "metadata": {},
     "output_type": "execute_result"
    }
   ],
   "source": [
    "# check missing values in train set\n",
    "X_train.isna().sum()"
   ]
  },
  {
   "cell_type": "code",
   "execution_count": 36,
   "metadata": {},
   "outputs": [
    {
     "data": {
      "text/plain": [
       "0"
      ]
     },
     "execution_count": 36,
     "metadata": {},
     "output_type": "execute_result"
    }
   ],
   "source": [
    "# check missing values in train target\n",
    "y_train.isna().sum()"
   ]
  },
  {
   "cell_type": "code",
   "execution_count": 37,
   "metadata": {},
   "outputs": [
    {
     "data": {
      "text/plain": [
       "age                         0\n",
       "anaemia                     0\n",
       "creatinine_phosphokinase    0\n",
       "diabetes                    0\n",
       "ejection_fraction           0\n",
       "high_blood_pressure         0\n",
       "platelets                   0\n",
       "serum_creatinine            0\n",
       "serum_sodium                0\n",
       "sex                         0\n",
       "smoking                     0\n",
       "time                        0\n",
       "dtype: int64"
      ]
     },
     "execution_count": 37,
     "metadata": {},
     "output_type": "execute_result"
    }
   ],
   "source": [
    "# check missing values in test set\n",
    "X_test.isna().sum()"
   ]
  },
  {
   "cell_type": "code",
   "execution_count": 38,
   "metadata": {},
   "outputs": [
    {
     "data": {
      "text/plain": [
       "0"
      ]
     },
     "execution_count": 38,
     "metadata": {},
     "output_type": "execute_result"
    }
   ],
   "source": [
    "# check missing values in test target\n",
    "y_test.isna().sum()"
   ]
  },
  {
   "cell_type": "markdown",
   "metadata": {},
   "source": [
    "Great! There are no missing values in train nor test features and target"
   ]
  },
  {
   "cell_type": "markdown",
   "metadata": {},
   "source": [
    "## Feature Selection"
   ]
  },
  {
   "cell_type": "markdown",
   "metadata": {},
   "source": [
    "### Heatmap Correlation Matrix for Numerical Features\n",
    "\n",
    "We look at the Spearman's correlation matrix to find out the relation between features and target"
   ]
  },
  {
   "cell_type": "code",
   "execution_count": 39,
   "metadata": {
    "colab": {
     "base_uri": "https://localhost:8080/",
     "height": 1000
    },
    "id": "DytKCFs5Ddt7",
    "outputId": "51beab39-eec8-4664-d174-b96fb87efd5d"
   },
   "outputs": [
    {
     "data": {
      "image/png": "[encoded data removed]",
      "text/plain": [
       "<Figure size 1080x720 with 2 Axes>"
      ]
     },
     "metadata": {
      "needs_background": "light"
     },
     "output_type": "display_data"
    }
   ],
   "source": [
    "# Heatmap Correlation Matrix\n",
    "plt.figure(figsize=(15,10))\n",
    "\n",
    "sns.heatmap(\n",
    "    pd.concat([y_train, X_train[num_cols]], axis=1).corr('spearman').abs(),\n",
    "    annot=True, vmin=0, vmax=1, fmt='.2f', square=True)\n",
    "plt.xticks(rotation=45)\n",
    "plt.yticks(rotation=0)\n",
    "plt.title('Heatmap for Numerical Features')\n",
    "\n",
    "plt.show()\n"
   ]
  },
  {
   "cell_type": "markdown",
   "metadata": {},
   "source": [
    "- There are quite a high correlation between `time` and our target `death_event`\n",
    "- There are some moderate correlation between `age`, `ejection_fraction`, `serum_creatinine`, `serum_sodium` and our target `death_event`\n",
    "- There are no features that are highly correlated with each other\n",
    "- For this research, I'm going to filter out features that have less than `0.20` Spearman's correlation value towards the target variable\n",
    "- I do think we need to have a deeper look to the feature `time`. `death_event` is by definition the event of decease within the follow up period. So this means that these two variables are sure to be correlated to each other.\n",
    "- However, it does mean that `time` would be useful as a predictor. By common sense, just because someone is followed up more frequently, does not mean that it would change the probability of dying. Therefore, I'm going to drop this feature as well\n",
    "    - I've actually already tested running a model using this feature and it would result in an overfitted model"
   ]
  },
  {
   "cell_type": "markdown",
   "metadata": {},
   "source": [
    "### Heatmap Correlation Matrix for Categorical Features\n",
    "\n",
    "We look at the Spearman's correlation matrix to find out the relation between features and target"
   ]
  },
  {
   "cell_type": "code",
   "execution_count": 40,
   "metadata": {
    "colab": {
     "base_uri": "https://localhost:8080/",
     "height": 1000
    },
    "id": "DytKCFs5Ddt7",
    "outputId": "51beab39-eec8-4664-d174-b96fb87efd5d"
   },
   "outputs": [
    {
     "data": {
      "image/png": "[encoded data removed]",
      "text/plain": [
       "<Figure size 1080x720 with 2 Axes>"
      ]
     },
     "metadata": {
      "needs_background": "light"
     },
     "output_type": "display_data"
    }
   ],
   "source": [
    "# Heatmap Correlation Matrix\n",
    "plt.figure(figsize=(15,10))\n",
    "\n",
    "sns.heatmap(\n",
    "    pd.concat([y_train, X_train[nom_cols]], axis=1).corr('spearman').abs(),\n",
    "    annot=True, vmin=0, vmax=1, fmt='.2f', square=True)\n",
    "plt.yticks(rotation=0)\n",
    "plt.title('Heatmap for Categorical Features')\n",
    "\n",
    "plt.show()\n"
   ]
  },
  {
   "cell_type": "markdown",
   "metadata": {},
   "source": [
    "- The correlations here are lower compared to the numerical features we have\n",
    "- The highest correlation here is held by `high_blood_pressure`\n",
    "- For this research, I'm going to drop all these categorical features since they have low correlation\n",
    "- I've actually run multiple tests and the model performed better without them in terms of being a good fit and recall scores"
   ]
  },
  {
   "cell_type": "markdown",
   "metadata": {},
   "source": [
    "### Categorizing Selected Features"
   ]
  },
  {
   "cell_type": "code",
   "execution_count": 41,
   "metadata": {},
   "outputs": [],
   "source": [
    "# create list of numerical features with normal distribution\n",
    "num_cols_norm = ['age']\n",
    "\n",
    "# create list of numerical features with skew\n",
    "num_cols_skew = [\n",
    "    'ejection_fraction',\n",
    "    'serum_creatinine'\n",
    "]\n",
    "\n",
    "# create final list of nominal features\n",
    "nom_cols = []"
   ]
  },
  {
   "cell_type": "markdown",
   "metadata": {},
   "source": [
    "Great! We have finalized our feature list.\n",
    "We also separated numerical features with different types of distribution just in case we want to scale them using different methods"
   ]
  },
  {
   "cell_type": "markdown",
   "metadata": {},
   "source": [
    "### List of Features\n",
    "\n",
    "These are the predictors we're going to use"
   ]
  },
  {
   "cell_type": "code",
   "execution_count": 42,
   "metadata": {},
   "outputs": [
    {
     "name": "stdout",
     "output_type": "stream",
     "text": [
      "Numerical Features:\n",
      "['age', 'ejection_fraction', 'serum_creatinine']\n",
      "==================================================\n",
      "Categorical Features:\n",
      "[]\n"
     ]
    }
   ],
   "source": [
    "# print out list of predictors\n",
    "print('Numerical Features:')\n",
    "print(num_cols_norm + num_cols_skew)\n",
    "print('=' * 50)\n",
    "print('Categorical Features:')\n",
    "print(nom_cols)"
   ]
  },
  {
   "cell_type": "markdown",
   "metadata": {},
   "source": [
    "### Create Pipeline\n",
    "\n",
    "Create a pipeline based on how we would engineer the features, whether to scale or to encode\n",
    "- We will create multiple pipeline for scaling because each features and each models require different procedures in which we handle it\n",
    "- All categorical features will use one hot encoder, though we do not use one"
   ]
  },
  {
   "cell_type": "code",
   "execution_count": 43,
   "metadata": {},
   "outputs": [],
   "source": [
    "# create pipeline for standardization\n",
    "std_pipe = Pipeline([\n",
    "    ('std_scaler', StandardScaler())\n",
    "])\n",
    "\n",
    "# create pipeline for min max scaling\n",
    "min_max_pipe = Pipeline([\n",
    "    ('min_max_scaler', MinMaxScaler())\n",
    "])\n",
    "\n",
    "# create pipeline for normalizer\n",
    "power_pipe = Pipeline([\n",
    "    ('power_transformer', PowerTransformer())\n",
    "])\n",
    "\n",
    "# create pipeline for robust scaler\n",
    "robust_pipe = Pipeline([\n",
    "    ('robust_scaler', RobustScaler())\n",
    "])\n",
    "\n",
    "# create pipeline for categorical features\n",
    "nom_pipe = Pipeline([\n",
    "    ('one_hot', OneHotEncoder(handle_unknown='ignore'))\n",
    "])"
   ]
  },
  {
   "cell_type": "markdown",
   "metadata": {},
   "source": [
    "### Create Column Transformer\n",
    "\n",
    "Create a `ColumnTransformer` object based on the pipeline we have created\\\n",
    "All normally distributed numerical features will use *StandardScaler*\\\n",
    "The rest will varied and tested"
   ]
  },
  {
   "cell_type": "code",
   "execution_count": 44,
   "metadata": {},
   "outputs": [],
   "source": [
    "# create column transformer object using standard scaler\n",
    "ct_std = ColumnTransformer([\n",
    "    ('num_norm', std_pipe, num_cols_norm),\n",
    "    ('num_skew', std_pipe, num_cols_skew),\n",
    "    ('nom', 'passthrough', nom_cols)\n",
    "])\n",
    "\n",
    "# create column transformer object using min max scaler\n",
    "ct_mm = ColumnTransformer([\n",
    "    ('num_norm', std_pipe, num_cols_norm),\n",
    "    ('num_skew', min_max_pipe, num_cols_skew),\n",
    "    ('nom', 'passthrough', nom_cols)\n",
    "])\n",
    "\n",
    "# create column transformer object using power transform\n",
    "ct_pt = ColumnTransformer([\n",
    "    ('num_norm', std_pipe, num_cols_norm),\n",
    "    ('num_skew', power_pipe, num_cols_skew),\n",
    "    ('nom', 'passthrough', nom_cols)\n",
    "])\n",
    "\n",
    "# create column transformer object using robust scaler\n",
    "ct_rs = ColumnTransformer([\n",
    "    ('num_norm', std_pipe, num_cols_norm),\n",
    "    ('num_skew', robust_pipe, num_cols_skew),\n",
    "    ('nom', 'passthrough', nom_cols)\n",
    "])\n"
   ]
  },
  {
   "cell_type": "markdown",
   "metadata": {},
   "source": [
    "# 6. Model Definition"
   ]
  },
  {
   "cell_type": "markdown",
   "metadata": {},
   "source": [
    "- Target: Predicting whether the event of decease would happen to the patient within the follow up period\n",
    "\n",
    "    The target that we're going to predict is a label, which means we are going to make a classification model.\n",
    "    In this case, we want to minimize the situation in which we incorrectly predicts a patient would not pass away (when the patient is in fact would), or as in the statistical term, **False Negative**"
   ]
  },
  {
   "cell_type": "markdown",
   "metadata": {},
   "source": [
    "- Predictors: The features I'm going to use are\n",
    "    - Numerical Features:\n",
    "        - ['age', 'ejection_fraction', 'serum_creatinine']"
   ]
  },
  {
   "cell_type": "markdown",
   "metadata": {},
   "source": [
    "- Models: The Supervised Learning Algorithms I'm going to test\n",
    "    - Random Forest\n",
    "    - Gradient Boosting"
   ]
  },
  {
   "cell_type": "markdown",
   "metadata": {},
   "source": [
    "## Random Forest\n",
    "\n",
    "I'm going to use *RobustScaler* since I didn't handle the outlier for the skewed feature.\\\n",
    "The normally distributed features will be scaled using *StandardScaler*"
   ]
  },
  {
   "cell_type": "code",
   "execution_count": 45,
   "metadata": {},
   "outputs": [],
   "source": [
    "# declare random forest classifier\n",
    "rf = RandomForestClassifier(random_state=random_state)\n",
    "\n",
    "# create pipeline for random forest classifier\n",
    "rf_pipe = Pipeline([\n",
    "    ('ct', ct_rs),\n",
    "    ('rf', rf)\n",
    "])\n"
   ]
  },
  {
   "cell_type": "markdown",
   "metadata": {},
   "source": [
    "## Gradient Boosting\n",
    "\n",
    "I'm going to use *RobustScaler* since I didn't handle the outlier for the skewed feature.\\\n",
    "The normally distributed features will be scaled using *StandardScaler*"
   ]
  },
  {
   "cell_type": "code",
   "execution_count": 46,
   "metadata": {},
   "outputs": [],
   "source": [
    "# declare gradient boosting classifier\n",
    "gbc = GradientBoostingClassifier(random_state=random_state)\n",
    "\n",
    "# create pipeline for gradient boosting classifier\n",
    "gbc_pipe = Pipeline([\n",
    "    ('ct', ct_rs),\n",
    "    ('gbc', gbc)\n",
    "])"
   ]
  },
  {
   "cell_type": "markdown",
   "metadata": {},
   "source": [
    "# 7. Model Training"
   ]
  },
  {
   "cell_type": "code",
   "execution_count": 47,
   "metadata": {},
   "outputs": [],
   "source": [
    "# create a dictionary of models\n",
    "models = {\n",
    "    'rf': rf_pipe,\n",
    "    'gbc': gbc_pipe\n",
    "}"
   ]
  },
  {
   "cell_type": "markdown",
   "metadata": {},
   "source": [
    "## Cross Validating Base Models\n",
    "\n",
    "Since the dataset is imbalance, we are going to evaluate our models based on **F1 Score**\\\n",
    "It's also important that we reduce the number of *False Negatives*, hence a high **Recall** is also important"
   ]
  },
  {
   "cell_type": "code",
   "execution_count": 48,
   "metadata": {},
   "outputs": [],
   "source": [
    "# create a dict to store the cross validation scores\n",
    "cv_results = {\n",
    "    'models': [],\n",
    "    'f1_score_mean': [],\n",
    "    'f1_score_std': [],\n",
    "    'recall_score_mean': [],\n",
    "    'recall_score_std': []\n",
    "} \n",
    "\n",
    "# loop over each each models and perform cross validation\n",
    "for name, model in models.items():\n",
    "    # fit the model\n",
    "    model.fit(X_train, y_train)\n",
    "    # get cross validation scores\n",
    "    scores = cross_validate(\n",
    "        model, X_train, y_train,\n",
    "        scoring=['f1_weighted', 'recall'],\n",
    "        cv=5\n",
    "    )\n",
    "\n",
    "    # store the cross validation scores\n",
    "    cv_results['models'].append(name)\n",
    "    cv_results['f1_score_mean'].append(scores['test_f1_weighted'].mean().round(2))\n",
    "    cv_results['f1_score_std'].append(scores['test_f1_weighted'].std().round(4))\n",
    "    cv_results['recall_score_mean'].append(scores['test_recall'].mean().round(2))\n",
    "    cv_results['recall_score_std'].append(scores['test_recall'].std().round(4))\n",
    "\n",
    "# create a dataframe from the dict\n",
    "cv_results_df = pd.DataFrame(cv_results)"
   ]
  },
  {
   "cell_type": "markdown",
   "metadata": {},
   "source": [
    "# 8. Model Evaluation"
   ]
  },
  {
   "cell_type": "code",
   "execution_count": 49,
   "metadata": {},
   "outputs": [
    {
     "data": {
      "text/html": [
       "<div>\n",
       "<style scoped>\n",
       "    .dataframe tbody tr th:only-of-type {\n",
       "        vertical-align: middle;\n",
       "    }\n",
       "\n",
       "    .dataframe tbody tr th {\n",
       "        vertical-align: top;\n",
       "    }\n",
       "\n",
       "    .dataframe thead th {\n",
       "        text-align: right;\n",
       "    }\n",
       "</style>\n",
       "<table border=\"1\" class=\"dataframe\">\n",
       "  <thead>\n",
       "    <tr style=\"text-align: right;\">\n",
       "      <th></th>\n",
       "      <th>models</th>\n",
       "      <th>f1_score_mean</th>\n",
       "      <th>f1_score_std</th>\n",
       "      <th>recall_score_mean</th>\n",
       "      <th>recall_score_std</th>\n",
       "    </tr>\n",
       "  </thead>\n",
       "  <tbody>\n",
       "    <tr>\n",
       "      <th>0</th>\n",
       "      <td>rf</td>\n",
       "      <td>0.74</td>\n",
       "      <td>0.04</td>\n",
       "      <td>0.55</td>\n",
       "      <td>0.15</td>\n",
       "    </tr>\n",
       "    <tr>\n",
       "      <th>1</th>\n",
       "      <td>gbc</td>\n",
       "      <td>0.72</td>\n",
       "      <td>0.05</td>\n",
       "      <td>0.45</td>\n",
       "      <td>0.16</td>\n",
       "    </tr>\n",
       "  </tbody>\n",
       "</table>\n",
       "</div>"
      ],
      "text/plain": [
       "  models  f1_score_mean  f1_score_std  recall_score_mean  recall_score_std\n",
       "0     rf           0.74          0.04               0.55              0.15\n",
       "1    gbc           0.72          0.05               0.45              0.16"
      ]
     },
     "execution_count": 49,
     "metadata": {},
     "output_type": "execute_result"
    }
   ],
   "source": [
    "# display the dataframe sorted by f1 score and recall score\n",
    "cv_results_df.sort_values(by=['f1_score_mean', 'recall_score_mean'], ascending=False)"
   ]
  },
  {
   "cell_type": "markdown",
   "metadata": {},
   "source": [
    "- Based on the cross validation score of *f1_weighted* and *recall*, we can see that **Random Forest** has a better performance than **Gradient Boosting**\n",
    "- However, I'm still going to perform hyperparameter tuning on both models"
   ]
  },
  {
   "cell_type": "markdown",
   "metadata": {},
   "source": [
    "## Hyperparameter Tuning\n",
    "\n",
    "Run on both models using *RandomizedSearchCV*"
   ]
  },
  {
   "cell_type": "code",
   "execution_count": 50,
   "metadata": {},
   "outputs": [],
   "source": [
    "# create parameter grid for random forest classifier\n",
    "params_rf = {\n",
    "    'rf__max_depth': [3, 5, 7, 10, None],\n",
    "    'rf__min_samples_leaf': [1, 2, 3, 4],\n",
    "    'rf__min_samples_split': [2, 3, 4, 5],\n",
    "}"
   ]
  },
  {
   "cell_type": "code",
   "execution_count": 51,
   "metadata": {},
   "outputs": [],
   "source": [
    "# create parameter grid for gradient boosting classifier\n",
    "params_gbc = {\n",
    "    'gbc__learning_rate': [0.1, 0.2, 0.3, 0.4, 0.5],\n",
    "    'gbc__max_depth': [3, 5, 7, 10, None],\n",
    "    'gbc__min_samples_leaf': [1, 2, 3, 4],\n",
    "}"
   ]
  },
  {
   "cell_type": "code",
   "execution_count": 52,
   "metadata": {},
   "outputs": [],
   "source": [
    "# create randomized search object for random forest classifier\n",
    "rf_rand = RandomizedSearchCV(\n",
    "    rf_pipe,\n",
    "    params_rf,\n",
    "    cv=5,\n",
    "    scoring='f1_weighted',\n",
    "    n_iter=20,\n",
    "    random_state=random_state\n",
    ")"
   ]
  },
  {
   "cell_type": "code",
   "execution_count": 53,
   "metadata": {},
   "outputs": [],
   "source": [
    "# create randomized search object for gradient boosting classifier\n",
    "gbc_rand = RandomizedSearchCV(\n",
    "    gbc_pipe,\n",
    "    params_gbc,\n",
    "    cv=5,\n",
    "    scoring='f1_weighted',\n",
    "    n_iter=25,\n",
    "    random_state=random_state\n",
    ")"
   ]
  },
  {
   "cell_type": "code",
   "execution_count": 54,
   "metadata": {},
   "outputs": [
    {
     "name": "stdout",
     "output_type": "stream",
     "text": [
      "CPU times: user 15.3 s, sys: 126 ms, total: 15.4 s\n",
      "Wall time: 15.4 s\n"
     ]
    },
    {
     "data": {
      "text/html": [
       "<style>#sk-container-id-1 {color: black;background-color: white;}#sk-container-id-1 pre{padding: 0;}#sk-container-id-1 div.sk-toggleable {background-color: white;}#sk-container-id-1 label.sk-toggleable__label {cursor: pointer;display: block;width: 100%;margin-bottom: 0;padding: 0.3em;box-sizing: border-box;text-align: center;}#sk-container-id-1 label.sk-toggleable__label-arrow:before {content: \"▸\";float: left;margin-right: 0.25em;color: #696969;}#sk-container-id-1 label.sk-toggleable__label-arrow:hover:before {color: black;}#sk-container-id-1 div.sk-estimator:hover label.sk-toggleable__label-arrow:before {color: black;}#sk-container-id-1 div.sk-toggleable__content {max-height: 0;max-width: 0;overflow: hidden;text-align: left;background-color: #f0f8ff;}#sk-container-id-1 div.sk-toggleable__content pre {margin: 0.2em;color: black;border-radius: 0.25em;background-color: #f0f8ff;}#sk-container-id-1 input.sk-toggleable__control:checked~div.sk-toggleable__content {max-height: 200px;max-width: 100%;overflow: auto;}#sk-container-id-1 input.sk-toggleable__control:checked~label.sk-toggleable__label-arrow:before {content: \"▾\";}#sk-container-id-1 div.sk-estimator input.sk-toggleable__control:checked~label.sk-toggleable__label {background-color: #d4ebff;}#sk-container-id-1 div.sk-label input.sk-toggleable__control:checked~label.sk-toggleable__label {background-color: #d4ebff;}#sk-container-id-1 input.sk-hidden--visually {border: 0;clip: rect(1px 1px 1px 1px);clip: rect(1px, 1px, 1px, 1px);height: 1px;margin: -1px;overflow: hidden;padding: 0;position: absolute;width: 1px;}#sk-container-id-1 div.sk-estimator {font-family: monospace;background-color: #f0f8ff;border: 1px dotted black;border-radius: 0.25em;box-sizing: border-box;margin-bottom: 0.5em;}#sk-container-id-1 div.sk-estimator:hover {background-color: #d4ebff;}#sk-container-id-1 div.sk-parallel-item::after {content: \"\";width: 100%;border-bottom: 1px solid gray;flex-grow: 1;}#sk-container-id-1 div.sk-label:hover label.sk-toggleable__label {background-color: #d4ebff;}#sk-container-id-1 div.sk-serial::before {content: \"\";position: absolute;border-left: 1px solid gray;box-sizing: border-box;top: 0;bottom: 0;left: 50%;z-index: 0;}#sk-container-id-1 div.sk-serial {display: flex;flex-direction: column;align-items: center;background-color: white;padding-right: 0.2em;padding-left: 0.2em;position: relative;}#sk-container-id-1 div.sk-item {position: relative;z-index: 1;}#sk-container-id-1 div.sk-parallel {display: flex;align-items: stretch;justify-content: center;background-color: white;position: relative;}#sk-container-id-1 div.sk-item::before, #sk-container-id-1 div.sk-parallel-item::before {content: \"\";position: absolute;border-left: 1px solid gray;box-sizing: border-box;top: 0;bottom: 0;left: 50%;z-index: -1;}#sk-container-id-1 div.sk-parallel-item {display: flex;flex-direction: column;z-index: 1;position: relative;background-color: white;}#sk-container-id-1 div.sk-parallel-item:first-child::after {align-self: flex-end;width: 50%;}#sk-container-id-1 div.sk-parallel-item:last-child::after {align-self: flex-start;width: 50%;}#sk-container-id-1 div.sk-parallel-item:only-child::after {width: 0;}#sk-container-id-1 div.sk-dashed-wrapped {border: 1px dashed gray;margin: 0 0.4em 0.5em 0.4em;box-sizing: border-box;padding-bottom: 0.4em;background-color: white;}#sk-container-id-1 div.sk-label label {font-family: monospace;font-weight: bold;display: inline-block;line-height: 1.2em;}#sk-container-id-1 div.sk-label-container {text-align: center;}#sk-container-id-1 div.sk-container {/* jupyter's `normalize.less` sets `[hidden] { display: none; }` but bootstrap.min.css set `[hidden] { display: none !important; }` so we also need the `!important` here to be able to override the default hidden behavior on the sphinx rendered scikit-learn.org. See: https://github.com/scikit-learn/scikit-learn/issues/21755 */display: inline-block !important;position: relative;}#sk-container-id-1 div.sk-text-repr-fallback {display: none;}</style><div id=\"sk-container-id-1\" class=\"sk-top-container\"><div class=\"sk-text-repr-fallback\"><pre>RandomizedSearchCV(cv=5,\n",
       "                   estimator=Pipeline(steps=[(&#x27;ct&#x27;,\n",
       "                                              ColumnTransformer(transformers=[(&#x27;num_norm&#x27;,\n",
       "                                                                               Pipeline(steps=[(&#x27;std_scaler&#x27;,\n",
       "                                                                                                StandardScaler())]),\n",
       "                                                                               [&#x27;age&#x27;]),\n",
       "                                                                              (&#x27;num_skew&#x27;,\n",
       "                                                                               Pipeline(steps=[(&#x27;robust_scaler&#x27;,\n",
       "                                                                                                RobustScaler())]),\n",
       "                                                                               [&#x27;ejection_fraction&#x27;,\n",
       "                                                                                &#x27;serum_creatinine&#x27;]),\n",
       "                                                                              (&#x27;nom&#x27;,\n",
       "                                                                               &#x27;passthrough&#x27;,\n",
       "                                                                               [])])),\n",
       "                                             (&#x27;rf&#x27;,\n",
       "                                              RandomForestClassifier(random_state=42))]),\n",
       "                   n_iter=20,\n",
       "                   param_distributions={&#x27;rf__max_depth&#x27;: [3, 5, 7, 10, None],\n",
       "                                        &#x27;rf__min_samples_leaf&#x27;: [1, 2, 3, 4],\n",
       "                                        &#x27;rf__min_samples_split&#x27;: [2, 3, 4, 5]},\n",
       "                   random_state=42, scoring=&#x27;f1_weighted&#x27;)</pre><b>In a Jupyter environment, please rerun this cell to show the HTML representation or trust the notebook. <br />On GitHub, the HTML representation is unable to render, please try loading this page with nbviewer.org.</b></div><div class=\"sk-container\" hidden><div class=\"sk-item sk-dashed-wrapped\"><div class=\"sk-label-container\"><div class=\"sk-label sk-toggleable\"><input class=\"sk-toggleable__control sk-hidden--visually\" id=\"sk-estimator-id-1\" type=\"checkbox\" ><label for=\"sk-estimator-id-1\" class=\"sk-toggleable__label sk-toggleable__label-arrow\">RandomizedSearchCV</label><div class=\"sk-toggleable__content\"><pre>RandomizedSearchCV(cv=5,\n",
       "                   estimator=Pipeline(steps=[(&#x27;ct&#x27;,\n",
       "                                              ColumnTransformer(transformers=[(&#x27;num_norm&#x27;,\n",
       "                                                                               Pipeline(steps=[(&#x27;std_scaler&#x27;,\n",
       "                                                                                                StandardScaler())]),\n",
       "                                                                               [&#x27;age&#x27;]),\n",
       "                                                                              (&#x27;num_skew&#x27;,\n",
       "                                                                               Pipeline(steps=[(&#x27;robust_scaler&#x27;,\n",
       "                                                                                                RobustScaler())]),\n",
       "                                                                               [&#x27;ejection_fraction&#x27;,\n",
       "                                                                                &#x27;serum_creatinine&#x27;]),\n",
       "                                                                              (&#x27;nom&#x27;,\n",
       "                                                                               &#x27;passthrough&#x27;,\n",
       "                                                                               [])])),\n",
       "                                             (&#x27;rf&#x27;,\n",
       "                                              RandomForestClassifier(random_state=42))]),\n",
       "                   n_iter=20,\n",
       "                   param_distributions={&#x27;rf__max_depth&#x27;: [3, 5, 7, 10, None],\n",
       "                                        &#x27;rf__min_samples_leaf&#x27;: [1, 2, 3, 4],\n",
       "                                        &#x27;rf__min_samples_split&#x27;: [2, 3, 4, 5]},\n",
       "                   random_state=42, scoring=&#x27;f1_weighted&#x27;)</pre></div></div></div><div class=\"sk-parallel\"><div class=\"sk-parallel-item\"><div class=\"sk-item\"><div class=\"sk-label-container\"><div class=\"sk-label sk-toggleable\"><input class=\"sk-toggleable__control sk-hidden--visually\" id=\"sk-estimator-id-2\" type=\"checkbox\" ><label for=\"sk-estimator-id-2\" class=\"sk-toggleable__label sk-toggleable__label-arrow\">estimator: Pipeline</label><div class=\"sk-toggleable__content\"><pre>Pipeline(steps=[(&#x27;ct&#x27;,\n",
       "                 ColumnTransformer(transformers=[(&#x27;num_norm&#x27;,\n",
       "                                                  Pipeline(steps=[(&#x27;std_scaler&#x27;,\n",
       "                                                                   StandardScaler())]),\n",
       "                                                  [&#x27;age&#x27;]),\n",
       "                                                 (&#x27;num_skew&#x27;,\n",
       "                                                  Pipeline(steps=[(&#x27;robust_scaler&#x27;,\n",
       "                                                                   RobustScaler())]),\n",
       "                                                  [&#x27;ejection_fraction&#x27;,\n",
       "                                                   &#x27;serum_creatinine&#x27;]),\n",
       "                                                 (&#x27;nom&#x27;, &#x27;passthrough&#x27;, [])])),\n",
       "                (&#x27;rf&#x27;, RandomForestClassifier(random_state=42))])</pre></div></div></div><div class=\"sk-serial\"><div class=\"sk-item\"><div class=\"sk-serial\"><div class=\"sk-item sk-dashed-wrapped\"><div class=\"sk-label-container\"><div class=\"sk-label sk-toggleable\"><input class=\"sk-toggleable__control sk-hidden--visually\" id=\"sk-estimator-id-3\" type=\"checkbox\" ><label for=\"sk-estimator-id-3\" class=\"sk-toggleable__label sk-toggleable__label-arrow\">ct: ColumnTransformer</label><div class=\"sk-toggleable__content\"><pre>ColumnTransformer(transformers=[(&#x27;num_norm&#x27;,\n",
       "                                 Pipeline(steps=[(&#x27;std_scaler&#x27;,\n",
       "                                                  StandardScaler())]),\n",
       "                                 [&#x27;age&#x27;]),\n",
       "                                (&#x27;num_skew&#x27;,\n",
       "                                 Pipeline(steps=[(&#x27;robust_scaler&#x27;,\n",
       "                                                  RobustScaler())]),\n",
       "                                 [&#x27;ejection_fraction&#x27;, &#x27;serum_creatinine&#x27;]),\n",
       "                                (&#x27;nom&#x27;, &#x27;passthrough&#x27;, [])])</pre></div></div></div><div class=\"sk-parallel\"><div class=\"sk-parallel-item\"><div class=\"sk-item\"><div class=\"sk-label-container\"><div class=\"sk-label sk-toggleable\"><input class=\"sk-toggleable__control sk-hidden--visually\" id=\"sk-estimator-id-4\" type=\"checkbox\" ><label for=\"sk-estimator-id-4\" class=\"sk-toggleable__label sk-toggleable__label-arrow\">num_norm</label><div class=\"sk-toggleable__content\"><pre>[&#x27;age&#x27;]</pre></div></div></div><div class=\"sk-serial\"><div class=\"sk-item\"><div class=\"sk-serial\"><div class=\"sk-item\"><div class=\"sk-estimator sk-toggleable\"><input class=\"sk-toggleable__control sk-hidden--visually\" id=\"sk-estimator-id-5\" type=\"checkbox\" ><label for=\"sk-estimator-id-5\" class=\"sk-toggleable__label sk-toggleable__label-arrow\">StandardScaler</label><div class=\"sk-toggleable__content\"><pre>StandardScaler()</pre></div></div></div></div></div></div></div></div><div class=\"sk-parallel-item\"><div class=\"sk-item\"><div class=\"sk-label-container\"><div class=\"sk-label sk-toggleable\"><input class=\"sk-toggleable__control sk-hidden--visually\" id=\"sk-estimator-id-6\" type=\"checkbox\" ><label for=\"sk-estimator-id-6\" class=\"sk-toggleable__label sk-toggleable__label-arrow\">num_skew</label><div class=\"sk-toggleable__content\"><pre>[&#x27;ejection_fraction&#x27;, &#x27;serum_creatinine&#x27;]</pre></div></div></div><div class=\"sk-serial\"><div class=\"sk-item\"><div class=\"sk-serial\"><div class=\"sk-item\"><div class=\"sk-estimator sk-toggleable\"><input class=\"sk-toggleable__control sk-hidden--visually\" id=\"sk-estimator-id-7\" type=\"checkbox\" ><label for=\"sk-estimator-id-7\" class=\"sk-toggleable__label sk-toggleable__label-arrow\">RobustScaler</label><div class=\"sk-toggleable__content\"><pre>RobustScaler()</pre></div></div></div></div></div></div></div></div><div class=\"sk-parallel-item\"><div class=\"sk-item\"><div class=\"sk-label-container\"><div class=\"sk-label sk-toggleable\"><input class=\"sk-toggleable__control sk-hidden--visually\" id=\"sk-estimator-id-8\" type=\"checkbox\" ><label for=\"sk-estimator-id-8\" class=\"sk-toggleable__label sk-toggleable__label-arrow\">nom</label><div class=\"sk-toggleable__content\"><pre>[]</pre></div></div></div><div class=\"sk-serial\"><div class=\"sk-item\"><div class=\"sk-estimator sk-toggleable\"><input class=\"sk-toggleable__control sk-hidden--visually\" id=\"sk-estimator-id-9\" type=\"checkbox\" ><label for=\"sk-estimator-id-9\" class=\"sk-toggleable__label sk-toggleable__label-arrow\">passthrough</label><div class=\"sk-toggleable__content\"><pre>passthrough</pre></div></div></div></div></div></div></div></div><div class=\"sk-item\"><div class=\"sk-estimator sk-toggleable\"><input class=\"sk-toggleable__control sk-hidden--visually\" id=\"sk-estimator-id-10\" type=\"checkbox\" ><label for=\"sk-estimator-id-10\" class=\"sk-toggleable__label sk-toggleable__label-arrow\">RandomForestClassifier</label><div class=\"sk-toggleable__content\"><pre>RandomForestClassifier(random_state=42)</pre></div></div></div></div></div></div></div></div></div></div></div></div>"
      ],
      "text/plain": [
       "RandomizedSearchCV(cv=5,\n",
       "                   estimator=Pipeline(steps=[('ct',\n",
       "                                              ColumnTransformer(transformers=[('num_norm',\n",
       "                                                                               Pipeline(steps=[('std_scaler',\n",
       "                                                                                                StandardScaler())]),\n",
       "                                                                               ['age']),\n",
       "                                                                              ('num_skew',\n",
       "                                                                               Pipeline(steps=[('robust_scaler',\n",
       "                                                                                                RobustScaler())]),\n",
       "                                                                               ['ejection_fraction',\n",
       "                                                                                'serum_creatinine']),\n",
       "                                                                              ('nom',\n",
       "                                                                               'passthrough',\n",
       "                                                                               [])])),\n",
       "                                             ('rf',\n",
       "                                              RandomForestClassifier(random_state=42))]),\n",
       "                   n_iter=20,\n",
       "                   param_distributions={'rf__max_depth': [3, 5, 7, 10, None],\n",
       "                                        'rf__min_samples_leaf': [1, 2, 3, 4],\n",
       "                                        'rf__min_samples_split': [2, 3, 4, 5]},\n",
       "                   random_state=42, scoring='f1_weighted')"
      ]
     },
     "execution_count": 54,
     "metadata": {},
     "output_type": "execute_result"
    }
   ],
   "source": [
    "%%time\n",
    "\n",
    "# perform randomized search for random forest classifier\n",
    "rf_rand.fit(X_train, y_train)"
   ]
  },
  {
   "cell_type": "code",
   "execution_count": 55,
   "metadata": {},
   "outputs": [
    {
     "name": "stdout",
     "output_type": "stream",
     "text": [
      "CPU times: user 18.3 s, sys: 527 µs, total: 18.3 s\n",
      "Wall time: 18.3 s\n"
     ]
    },
    {
     "data": {
      "text/html": [
       "<style>#sk-container-id-2 {color: black;background-color: white;}#sk-container-id-2 pre{padding: 0;}#sk-container-id-2 div.sk-toggleable {background-color: white;}#sk-container-id-2 label.sk-toggleable__label {cursor: pointer;display: block;width: 100%;margin-bottom: 0;padding: 0.3em;box-sizing: border-box;text-align: center;}#sk-container-id-2 label.sk-toggleable__label-arrow:before {content: \"▸\";float: left;margin-right: 0.25em;color: #696969;}#sk-container-id-2 label.sk-toggleable__label-arrow:hover:before {color: black;}#sk-container-id-2 div.sk-estimator:hover label.sk-toggleable__label-arrow:before {color: black;}#sk-container-id-2 div.sk-toggleable__content {max-height: 0;max-width: 0;overflow: hidden;text-align: left;background-color: #f0f8ff;}#sk-container-id-2 div.sk-toggleable__content pre {margin: 0.2em;color: black;border-radius: 0.25em;background-color: #f0f8ff;}#sk-container-id-2 input.sk-toggleable__control:checked~div.sk-toggleable__content {max-height: 200px;max-width: 100%;overflow: auto;}#sk-container-id-2 input.sk-toggleable__control:checked~label.sk-toggleable__label-arrow:before {content: \"▾\";}#sk-container-id-2 div.sk-estimator input.sk-toggleable__control:checked~label.sk-toggleable__label {background-color: #d4ebff;}#sk-container-id-2 div.sk-label input.sk-toggleable__control:checked~label.sk-toggleable__label {background-color: #d4ebff;}#sk-container-id-2 input.sk-hidden--visually {border: 0;clip: rect(1px 1px 1px 1px);clip: rect(1px, 1px, 1px, 1px);height: 1px;margin: -1px;overflow: hidden;padding: 0;position: absolute;width: 1px;}#sk-container-id-2 div.sk-estimator {font-family: monospace;background-color: #f0f8ff;border: 1px dotted black;border-radius: 0.25em;box-sizing: border-box;margin-bottom: 0.5em;}#sk-container-id-2 div.sk-estimator:hover {background-color: #d4ebff;}#sk-container-id-2 div.sk-parallel-item::after {content: \"\";width: 100%;border-bottom: 1px solid gray;flex-grow: 1;}#sk-container-id-2 div.sk-label:hover label.sk-toggleable__label {background-color: #d4ebff;}#sk-container-id-2 div.sk-serial::before {content: \"\";position: absolute;border-left: 1px solid gray;box-sizing: border-box;top: 0;bottom: 0;left: 50%;z-index: 0;}#sk-container-id-2 div.sk-serial {display: flex;flex-direction: column;align-items: center;background-color: white;padding-right: 0.2em;padding-left: 0.2em;position: relative;}#sk-container-id-2 div.sk-item {position: relative;z-index: 1;}#sk-container-id-2 div.sk-parallel {display: flex;align-items: stretch;justify-content: center;background-color: white;position: relative;}#sk-container-id-2 div.sk-item::before, #sk-container-id-2 div.sk-parallel-item::before {content: \"\";position: absolute;border-left: 1px solid gray;box-sizing: border-box;top: 0;bottom: 0;left: 50%;z-index: -1;}#sk-container-id-2 div.sk-parallel-item {display: flex;flex-direction: column;z-index: 1;position: relative;background-color: white;}#sk-container-id-2 div.sk-parallel-item:first-child::after {align-self: flex-end;width: 50%;}#sk-container-id-2 div.sk-parallel-item:last-child::after {align-self: flex-start;width: 50%;}#sk-container-id-2 div.sk-parallel-item:only-child::after {width: 0;}#sk-container-id-2 div.sk-dashed-wrapped {border: 1px dashed gray;margin: 0 0.4em 0.5em 0.4em;box-sizing: border-box;padding-bottom: 0.4em;background-color: white;}#sk-container-id-2 div.sk-label label {font-family: monospace;font-weight: bold;display: inline-block;line-height: 1.2em;}#sk-container-id-2 div.sk-label-container {text-align: center;}#sk-container-id-2 div.sk-container {/* jupyter's `normalize.less` sets `[hidden] { display: none; }` but bootstrap.min.css set `[hidden] { display: none !important; }` so we also need the `!important` here to be able to override the default hidden behavior on the sphinx rendered scikit-learn.org. See: https://github.com/scikit-learn/scikit-learn/issues/21755 */display: inline-block !important;position: relative;}#sk-container-id-2 div.sk-text-repr-fallback {display: none;}</style><div id=\"sk-container-id-2\" class=\"sk-top-container\"><div class=\"sk-text-repr-fallback\"><pre>RandomizedSearchCV(cv=5,\n",
       "                   estimator=Pipeline(steps=[(&#x27;ct&#x27;,\n",
       "                                              ColumnTransformer(transformers=[(&#x27;num_norm&#x27;,\n",
       "                                                                               Pipeline(steps=[(&#x27;std_scaler&#x27;,\n",
       "                                                                                                StandardScaler())]),\n",
       "                                                                               [&#x27;age&#x27;]),\n",
       "                                                                              (&#x27;num_skew&#x27;,\n",
       "                                                                               Pipeline(steps=[(&#x27;robust_scaler&#x27;,\n",
       "                                                                                                RobustScaler())]),\n",
       "                                                                               [&#x27;ejection_fraction&#x27;,\n",
       "                                                                                &#x27;serum_creatinine&#x27;]),\n",
       "                                                                              (&#x27;nom&#x27;,\n",
       "                                                                               &#x27;passthrough&#x27;,\n",
       "                                                                               [])])),\n",
       "                                             (&#x27;gbc&#x27;,\n",
       "                                              GradientBoostingClassifier(random_state=42))]),\n",
       "                   n_iter=25,\n",
       "                   param_distributions={&#x27;gbc__learning_rate&#x27;: [0.1, 0.2, 0.3,\n",
       "                                                               0.4, 0.5],\n",
       "                                        &#x27;gbc__max_depth&#x27;: [3, 5, 7, 10, None],\n",
       "                                        &#x27;gbc__min_samples_leaf&#x27;: [1, 2, 3, 4]},\n",
       "                   random_state=42, scoring=&#x27;f1_weighted&#x27;)</pre><b>In a Jupyter environment, please rerun this cell to show the HTML representation or trust the notebook. <br />On GitHub, the HTML representation is unable to render, please try loading this page with nbviewer.org.</b></div><div class=\"sk-container\" hidden><div class=\"sk-item sk-dashed-wrapped\"><div class=\"sk-label-container\"><div class=\"sk-label sk-toggleable\"><input class=\"sk-toggleable__control sk-hidden--visually\" id=\"sk-estimator-id-11\" type=\"checkbox\" ><label for=\"sk-estimator-id-11\" class=\"sk-toggleable__label sk-toggleable__label-arrow\">RandomizedSearchCV</label><div class=\"sk-toggleable__content\"><pre>RandomizedSearchCV(cv=5,\n",
       "                   estimator=Pipeline(steps=[(&#x27;ct&#x27;,\n",
       "                                              ColumnTransformer(transformers=[(&#x27;num_norm&#x27;,\n",
       "                                                                               Pipeline(steps=[(&#x27;std_scaler&#x27;,\n",
       "                                                                                                StandardScaler())]),\n",
       "                                                                               [&#x27;age&#x27;]),\n",
       "                                                                              (&#x27;num_skew&#x27;,\n",
       "                                                                               Pipeline(steps=[(&#x27;robust_scaler&#x27;,\n",
       "                                                                                                RobustScaler())]),\n",
       "                                                                               [&#x27;ejection_fraction&#x27;,\n",
       "                                                                                &#x27;serum_creatinine&#x27;]),\n",
       "                                                                              (&#x27;nom&#x27;,\n",
       "                                                                               &#x27;passthrough&#x27;,\n",
       "                                                                               [])])),\n",
       "                                             (&#x27;gbc&#x27;,\n",
       "                                              GradientBoostingClassifier(random_state=42))]),\n",
       "                   n_iter=25,\n",
       "                   param_distributions={&#x27;gbc__learning_rate&#x27;: [0.1, 0.2, 0.3,\n",
       "                                                               0.4, 0.5],\n",
       "                                        &#x27;gbc__max_depth&#x27;: [3, 5, 7, 10, None],\n",
       "                                        &#x27;gbc__min_samples_leaf&#x27;: [1, 2, 3, 4]},\n",
       "                   random_state=42, scoring=&#x27;f1_weighted&#x27;)</pre></div></div></div><div class=\"sk-parallel\"><div class=\"sk-parallel-item\"><div class=\"sk-item\"><div class=\"sk-label-container\"><div class=\"sk-label sk-toggleable\"><input class=\"sk-toggleable__control sk-hidden--visually\" id=\"sk-estimator-id-12\" type=\"checkbox\" ><label for=\"sk-estimator-id-12\" class=\"sk-toggleable__label sk-toggleable__label-arrow\">estimator: Pipeline</label><div class=\"sk-toggleable__content\"><pre>Pipeline(steps=[(&#x27;ct&#x27;,\n",
       "                 ColumnTransformer(transformers=[(&#x27;num_norm&#x27;,\n",
       "                                                  Pipeline(steps=[(&#x27;std_scaler&#x27;,\n",
       "                                                                   StandardScaler())]),\n",
       "                                                  [&#x27;age&#x27;]),\n",
       "                                                 (&#x27;num_skew&#x27;,\n",
       "                                                  Pipeline(steps=[(&#x27;robust_scaler&#x27;,\n",
       "                                                                   RobustScaler())]),\n",
       "                                                  [&#x27;ejection_fraction&#x27;,\n",
       "                                                   &#x27;serum_creatinine&#x27;]),\n",
       "                                                 (&#x27;nom&#x27;, &#x27;passthrough&#x27;, [])])),\n",
       "                (&#x27;gbc&#x27;, GradientBoostingClassifier(random_state=42))])</pre></div></div></div><div class=\"sk-serial\"><div class=\"sk-item\"><div class=\"sk-serial\"><div class=\"sk-item sk-dashed-wrapped\"><div class=\"sk-label-container\"><div class=\"sk-label sk-toggleable\"><input class=\"sk-toggleable__control sk-hidden--visually\" id=\"sk-estimator-id-13\" type=\"checkbox\" ><label for=\"sk-estimator-id-13\" class=\"sk-toggleable__label sk-toggleable__label-arrow\">ct: ColumnTransformer</label><div class=\"sk-toggleable__content\"><pre>ColumnTransformer(transformers=[(&#x27;num_norm&#x27;,\n",
       "                                 Pipeline(steps=[(&#x27;std_scaler&#x27;,\n",
       "                                                  StandardScaler())]),\n",
       "                                 [&#x27;age&#x27;]),\n",
       "                                (&#x27;num_skew&#x27;,\n",
       "                                 Pipeline(steps=[(&#x27;robust_scaler&#x27;,\n",
       "                                                  RobustScaler())]),\n",
       "                                 [&#x27;ejection_fraction&#x27;, &#x27;serum_creatinine&#x27;]),\n",
       "                                (&#x27;nom&#x27;, &#x27;passthrough&#x27;, [])])</pre></div></div></div><div class=\"sk-parallel\"><div class=\"sk-parallel-item\"><div class=\"sk-item\"><div class=\"sk-label-container\"><div class=\"sk-label sk-toggleable\"><input class=\"sk-toggleable__control sk-hidden--visually\" id=\"sk-estimator-id-14\" type=\"checkbox\" ><label for=\"sk-estimator-id-14\" class=\"sk-toggleable__label sk-toggleable__label-arrow\">num_norm</label><div class=\"sk-toggleable__content\"><pre>[&#x27;age&#x27;]</pre></div></div></div><div class=\"sk-serial\"><div class=\"sk-item\"><div class=\"sk-serial\"><div class=\"sk-item\"><div class=\"sk-estimator sk-toggleable\"><input class=\"sk-toggleable__control sk-hidden--visually\" id=\"sk-estimator-id-15\" type=\"checkbox\" ><label for=\"sk-estimator-id-15\" class=\"sk-toggleable__label sk-toggleable__label-arrow\">StandardScaler</label><div class=\"sk-toggleable__content\"><pre>StandardScaler()</pre></div></div></div></div></div></div></div></div><div class=\"sk-parallel-item\"><div class=\"sk-item\"><div class=\"sk-label-container\"><div class=\"sk-label sk-toggleable\"><input class=\"sk-toggleable__control sk-hidden--visually\" id=\"sk-estimator-id-16\" type=\"checkbox\" ><label for=\"sk-estimator-id-16\" class=\"sk-toggleable__label sk-toggleable__label-arrow\">num_skew</label><div class=\"sk-toggleable__content\"><pre>[&#x27;ejection_fraction&#x27;, &#x27;serum_creatinine&#x27;]</pre></div></div></div><div class=\"sk-serial\"><div class=\"sk-item\"><div class=\"sk-serial\"><div class=\"sk-item\"><div class=\"sk-estimator sk-toggleable\"><input class=\"sk-toggleable__control sk-hidden--visually\" id=\"sk-estimator-id-17\" type=\"checkbox\" ><label for=\"sk-estimator-id-17\" class=\"sk-toggleable__label sk-toggleable__label-arrow\">RobustScaler</label><div class=\"sk-toggleable__content\"><pre>RobustScaler()</pre></div></div></div></div></div></div></div></div><div class=\"sk-parallel-item\"><div class=\"sk-item\"><div class=\"sk-label-container\"><div class=\"sk-label sk-toggleable\"><input class=\"sk-toggleable__control sk-hidden--visually\" id=\"sk-estimator-id-18\" type=\"checkbox\" ><label for=\"sk-estimator-id-18\" class=\"sk-toggleable__label sk-toggleable__label-arrow\">nom</label><div class=\"sk-toggleable__content\"><pre>[]</pre></div></div></div><div class=\"sk-serial\"><div class=\"sk-item\"><div class=\"sk-estimator sk-toggleable\"><input class=\"sk-toggleable__control sk-hidden--visually\" id=\"sk-estimator-id-19\" type=\"checkbox\" ><label for=\"sk-estimator-id-19\" class=\"sk-toggleable__label sk-toggleable__label-arrow\">passthrough</label><div class=\"sk-toggleable__content\"><pre>passthrough</pre></div></div></div></div></div></div></div></div><div class=\"sk-item\"><div class=\"sk-estimator sk-toggleable\"><input class=\"sk-toggleable__control sk-hidden--visually\" id=\"sk-estimator-id-20\" type=\"checkbox\" ><label for=\"sk-estimator-id-20\" class=\"sk-toggleable__label sk-toggleable__label-arrow\">GradientBoostingClassifier</label><div class=\"sk-toggleable__content\"><pre>GradientBoostingClassifier(random_state=42)</pre></div></div></div></div></div></div></div></div></div></div></div></div>"
      ],
      "text/plain": [
       "RandomizedSearchCV(cv=5,\n",
       "                   estimator=Pipeline(steps=[('ct',\n",
       "                                              ColumnTransformer(transformers=[('num_norm',\n",
       "                                                                               Pipeline(steps=[('std_scaler',\n",
       "                                                                                                StandardScaler())]),\n",
       "                                                                               ['age']),\n",
       "                                                                              ('num_skew',\n",
       "                                                                               Pipeline(steps=[('robust_scaler',\n",
       "                                                                                                RobustScaler())]),\n",
       "                                                                               ['ejection_fraction',\n",
       "                                                                                'serum_creatinine']),\n",
       "                                                                              ('nom',\n",
       "                                                                               'passthrough',\n",
       "                                                                               [])])),\n",
       "                                             ('gbc',\n",
       "                                              GradientBoostingClassifier(random_state=42))]),\n",
       "                   n_iter=25,\n",
       "                   param_distributions={'gbc__learning_rate': [0.1, 0.2, 0.3,\n",
       "                                                               0.4, 0.5],\n",
       "                                        'gbc__max_depth': [3, 5, 7, 10, None],\n",
       "                                        'gbc__min_samples_leaf': [1, 2, 3, 4]},\n",
       "                   random_state=42, scoring='f1_weighted')"
      ]
     },
     "execution_count": 55,
     "metadata": {},
     "output_type": "execute_result"
    }
   ],
   "source": [
    "%%time\n",
    "\n",
    "# perform randomized search for gradient boosting classifier\n",
    "gbc_rand.fit(X_train, y_train)"
   ]
  },
  {
   "cell_type": "code",
   "execution_count": 56,
   "metadata": {},
   "outputs": [
    {
     "name": "stdout",
     "output_type": "stream",
     "text": [
      "Best Parameters for Random Forest Classifier (Randomized Search): {'rf__min_samples_split': 3, 'rf__min_samples_leaf': 4, 'rf__max_depth': 7}\n",
      "Best Score for Random Forest Classifier (Randomized Search): 0.75\n"
     ]
    }
   ],
   "source": [
    "# print the best parameters for random forest classifier based on randomized search\n",
    "print(f'Best Parameters for Random Forest Classifier (Randomized Search): {rf_rand.best_params_}')\n",
    "\n",
    "# print the best score for random forest classifier based on randomized search\n",
    "print(f'Best Score for Random Forest Classifier (Randomized Search): {rf_rand.best_score_:.2f}')"
   ]
  },
  {
   "cell_type": "code",
   "execution_count": 57,
   "metadata": {},
   "outputs": [
    {
     "name": "stdout",
     "output_type": "stream",
     "text": [
      "Best Parameters for Gradient Boosting Classifier (Randomized Search): {'gbc__min_samples_leaf': 2, 'gbc__max_depth': 10, 'gbc__learning_rate': 0.2}\n",
      "Best Score for Gradient Boosting Classifier (Randomized Search): 0.74\n"
     ]
    }
   ],
   "source": [
    "# print the best parameters for gradient boosting classifier based on randomized search\n",
    "print(f'Best Parameters for Gradient Boosting Classifier (Randomized Search): {gbc_rand.best_params_}')\n",
    "\n",
    "# print the best score for gradient boosting classifier based on randomized search\n",
    "print(f'Best Score for Gradient Boosting Classifier (Randomized Search): {gbc_rand.best_score_:.2f}')"
   ]
  },
  {
   "cell_type": "code",
   "execution_count": 58,
   "metadata": {},
   "outputs": [],
   "source": [
    "# assign the best estimator to the final random forest classifier model\n",
    "final_rf = rf_rand.best_estimator_\n",
    "\n",
    "# assign the best estimator to the final gradient boosting classifier model\n",
    "final_gbc = gbc_rand.best_estimator_"
   ]
  },
  {
   "cell_type": "markdown",
   "metadata": {},
   "source": [
    "Running this randomized search resulted in:\n",
    "- Around 30s to run, be it *Random Forest* or *Gradient Boosting*\n",
    "- For *Random Forest Classifier*\n",
    "    - Best Parameters for Random Forest Classifier (Randomized Search):\n",
    "        - `{'rf__min_samples_split': 3, 'rf__min_samples_leaf': 4, 'rf__max_depth': 7}`\n",
    "    - Best Score for Random Forest Classifier (Randomized Search): 0.75\n",
    "- For *Gradient Boosting Classifier*\n",
    "    - Best Parameters for Gradient Boosting Classifier (Randomized Search):\n",
    "        - `{'gbc__min_samples_leaf': 2, 'gbc__max_depth': 10, 'gbc__learning_rate': 0.2}`\n",
    "    - Best Score for Gradient Boosting Classifier (Randomized Search): 0.74"
   ]
  },
  {
   "cell_type": "markdown",
   "metadata": {},
   "source": [
    "## Evaluate Hyperparameter Tuning Search Results"
   ]
  },
  {
   "cell_type": "code",
   "execution_count": 59,
   "metadata": {},
   "outputs": [],
   "source": [
    "# predict train set using the base random forest classifier\n",
    "y_pred_train_rf = rf_pipe.predict(X_train)\n",
    "\n",
    "# predict test set using the base random forest classifier\n",
    "y_pred_test_rf = rf_pipe.predict(X_test)\n",
    "\n",
    "# predict train set using the final random forest classifier\n",
    "y_pred_train_final_rf = final_rf.predict(X_train)\n",
    "\n",
    "# predict test set using the final random forest classifier\n",
    "y_pred_test_final_rf = final_rf.predict(X_test)"
   ]
  },
  {
   "cell_type": "code",
   "execution_count": 60,
   "metadata": {},
   "outputs": [],
   "source": [
    "# predict train set using the base gradient boosting classifier\n",
    "y_pred_train_gbc = gbc_pipe.predict(X_train)\n",
    "\n",
    "# predict test set using the base gradient boosting classifier\n",
    "y_pred_test_gbc = gbc_pipe.predict(X_test)\n",
    "\n",
    "# predict train set using the final gradient boosting classifier\n",
    "y_pred_train_final_gbc = final_gbc.predict(X_train)\n",
    "\n",
    "# predict test set using the final gradient boosting classifier\n",
    "y_pred_test_final_gbc = final_gbc.predict(X_test)"
   ]
  },
  {
   "cell_type": "code",
   "execution_count": 61,
   "metadata": {},
   "outputs": [],
   "source": [
    "# prepare target names for classification report\n",
    "target_names = ['No Death', 'Death']"
   ]
  },
  {
   "cell_type": "code",
   "execution_count": 62,
   "metadata": {},
   "outputs": [],
   "source": [
    "# create a dictionary containing the list of base and final predictions\n",
    "models_to_evaluate = {\n",
    "    'Base Random Forest Classifier': [y_pred_train_rf, y_pred_test_rf],\n",
    "    'Final Random Forest Classifier': [y_pred_train_final_rf, y_pred_test_final_rf],\n",
    "    'Base Gradient Boosting Classifier': [y_pred_train_gbc, y_pred_test_gbc],\n",
    "    'Final Gradient Boosting Classifier': [y_pred_train_final_gbc, y_pred_test_final_gbc]\n",
    "}"
   ]
  },
  {
   "cell_type": "markdown",
   "metadata": {},
   "source": [
    "### Summary of F1 and Recall Score"
   ]
  },
  {
   "cell_type": "code",
   "execution_count": 63,
   "metadata": {},
   "outputs": [],
   "source": [
    "# create a dict to store the classification report summarized\n",
    "report_summary = {\n",
    "    'models': [],\n",
    "    'f1_scores_train': [],\n",
    "    'f1_scores_test': [],\n",
    "    'recall_scores_train': [],\n",
    "    'recall_scores_test': [],\n",
    "    'roc_auc_scores_train': [],\n",
    "    'roc_auc_scores_test': []\n",
    "} \n",
    "\n",
    "# loop over each each models and perform cross validation\n",
    "for name, preds in models_to_evaluate.items():\n",
    "    # get f1 score training set\n",
    "    f1_score_train = f1_score(y_train, preds[0], average='weighted')\n",
    "    # get f1 score test set\n",
    "    f1_score_test = f1_score(y_test, preds[1], average='weighted')\n",
    "    # get recall score training set\n",
    "    recall_score_train = recall_score(y_train, preds[0], average='weighted')\n",
    "    # get recall score test set\n",
    "    recall_score_test = recall_score(y_test, preds[1], average='weighted')\n",
    "    # get roc auc score training set\n",
    "    roc_auc_score_train = roc_auc_score(y_train, preds[0], average='weighted')\n",
    "    # get roc auc score test set\n",
    "    roc_auc_score_test = roc_auc_score(y_test, preds[1], average='weighted')\n",
    "\n",
    "    # store the scores\n",
    "    report_summary['models'].append(name)\n",
    "    report_summary['f1_scores_train'].append(f1_score_train)\n",
    "    report_summary['f1_scores_test'].append(f1_score_test)\n",
    "    report_summary['recall_scores_train'].append(recall_score_train)\n",
    "    report_summary['recall_scores_test'].append(recall_score_test)\n",
    "    report_summary['roc_auc_scores_train'].append(roc_auc_score_train)\n",
    "    report_summary['roc_auc_scores_test'].append(roc_auc_score_test)\n",
    "\n",
    "# create a dataframe from the dict\n",
    "report_summary_df = pd.DataFrame(report_summary)"
   ]
  },
  {
   "cell_type": "code",
   "execution_count": 64,
   "metadata": {},
   "outputs": [
    {
     "data": {
      "text/html": [
       "<div>\n",
       "<style scoped>\n",
       "    .dataframe tbody tr th:only-of-type {\n",
       "        vertical-align: middle;\n",
       "    }\n",
       "\n",
       "    .dataframe tbody tr th {\n",
       "        vertical-align: top;\n",
       "    }\n",
       "\n",
       "    .dataframe thead th {\n",
       "        text-align: right;\n",
       "    }\n",
       "</style>\n",
       "<table border=\"1\" class=\"dataframe\">\n",
       "  <thead>\n",
       "    <tr style=\"text-align: right;\">\n",
       "      <th></th>\n",
       "      <th>models</th>\n",
       "      <th>f1_scores_train</th>\n",
       "      <th>f1_scores_test</th>\n",
       "      <th>recall_scores_train</th>\n",
       "      <th>recall_scores_test</th>\n",
       "      <th>roc_auc_scores_train</th>\n",
       "      <th>roc_auc_scores_test</th>\n",
       "    </tr>\n",
       "  </thead>\n",
       "  <tbody>\n",
       "    <tr>\n",
       "      <th>0</th>\n",
       "      <td>Base Random Forest Classifier</td>\n",
       "      <td>0.99</td>\n",
       "      <td>0.79</td>\n",
       "      <td>0.99</td>\n",
       "      <td>0.79</td>\n",
       "      <td>0.99</td>\n",
       "      <td>0.73</td>\n",
       "    </tr>\n",
       "    <tr>\n",
       "      <th>1</th>\n",
       "      <td>Final Random Forest Classifier</td>\n",
       "      <td>0.82</td>\n",
       "      <td>0.81</td>\n",
       "      <td>0.83</td>\n",
       "      <td>0.81</td>\n",
       "      <td>0.77</td>\n",
       "      <td>0.77</td>\n",
       "    </tr>\n",
       "    <tr>\n",
       "      <th>2</th>\n",
       "      <td>Base Gradient Boosting Classifier</td>\n",
       "      <td>0.91</td>\n",
       "      <td>0.76</td>\n",
       "      <td>0.91</td>\n",
       "      <td>0.78</td>\n",
       "      <td>0.87</td>\n",
       "      <td>0.70</td>\n",
       "    </tr>\n",
       "    <tr>\n",
       "      <th>3</th>\n",
       "      <td>Final Gradient Boosting Classifier</td>\n",
       "      <td>0.99</td>\n",
       "      <td>0.76</td>\n",
       "      <td>0.99</td>\n",
       "      <td>0.78</td>\n",
       "      <td>0.99</td>\n",
       "      <td>0.70</td>\n",
       "    </tr>\n",
       "  </tbody>\n",
       "</table>\n",
       "</div>"
      ],
      "text/plain": [
       "                               models  f1_scores_train  f1_scores_test  \\\n",
       "0       Base Random Forest Classifier             0.99            0.79   \n",
       "1      Final Random Forest Classifier             0.82            0.81   \n",
       "2   Base Gradient Boosting Classifier             0.91            0.76   \n",
       "3  Final Gradient Boosting Classifier             0.99            0.76   \n",
       "\n",
       "   recall_scores_train  recall_scores_test  roc_auc_scores_train  \\\n",
       "0                 0.99                0.79                  0.99   \n",
       "1                 0.83                0.81                  0.77   \n",
       "2                 0.91                0.78                  0.87   \n",
       "3                 0.99                0.78                  0.99   \n",
       "\n",
       "   roc_auc_scores_test  \n",
       "0                 0.73  \n",
       "1                 0.77  \n",
       "2                 0.70  \n",
       "3                 0.70  "
      ]
     },
     "execution_count": 64,
     "metadata": {},
     "output_type": "execute_result"
    }
   ],
   "source": [
    "# display the dataframe\n",
    "report_summary_df"
   ]
  },
  {
   "cell_type": "markdown",
   "metadata": {},
   "source": [
    "- We can see from the comparison between the train score and the test score for each model to determine whether the model is a good fit\n",
    "- We conclude that the base model, be it *Random Forest* or *Gradient Boosting* are both overfit as the f1 train score are both higher then the respective f1 test score\n",
    "- The *Final Random Forest* method which have been tuned resulted in a good fit as there's not that much different between the train and test scores\n",
    "- The *Final Gradient Boosting* actually became even more overfit as the gap became wider\n",
    "- Therefore, the *Final Random Forest* will be our main model to further analyze"
   ]
  },
  {
   "cell_type": "markdown",
   "metadata": {},
   "source": [
    "### Detailed Evaluation for Random Forest Classifier"
   ]
  },
  {
   "cell_type": "code",
   "execution_count": 65,
   "metadata": {},
   "outputs": [
    {
     "name": "stdout",
     "output_type": "stream",
     "text": [
      "\n",
      "Classification Report for Base Random Forest Classifier Training Set:\n",
      "              precision    recall  f1-score   support\n",
      "\n",
      "    No Death       0.99      0.99      0.99       158\n",
      "       Death       0.99      0.99      0.99        73\n",
      "\n",
      "    accuracy                           0.99       231\n",
      "   macro avg       0.99      0.99      0.99       231\n",
      "weighted avg       0.99      0.99      0.99       231\n",
      "\n",
      "\n",
      "Classification Report for Base Random Forest Classifier Test Set:\n",
      "              precision    recall  f1-score   support\n",
      "\n",
      "    No Death       0.82      0.90      0.86        40\n",
      "       Death       0.71      0.56      0.63        18\n",
      "\n",
      "    accuracy                           0.79        58\n",
      "   macro avg       0.77      0.73      0.74        58\n",
      "weighted avg       0.79      0.79      0.79        58\n",
      "\n",
      "\n",
      "Classification Report for Final Random Forest Classifier Training Set:\n",
      "              precision    recall  f1-score   support\n",
      "\n",
      "    No Death       0.83      0.94      0.88       158\n",
      "       Death       0.83      0.59      0.69        73\n",
      "\n",
      "    accuracy                           0.83       231\n",
      "   macro avg       0.83      0.77      0.79       231\n",
      "weighted avg       0.83      0.83      0.82       231\n",
      "\n",
      "\n",
      "Classification Report for Final Random Forest Classifier Test Set:\n",
      "              precision    recall  f1-score   support\n",
      "\n",
      "    No Death       0.85      0.88      0.86        40\n",
      "       Death       0.71      0.67      0.69        18\n",
      "\n",
      "    accuracy                           0.81        58\n",
      "   macro avg       0.78      0.77      0.77        58\n",
      "weighted avg       0.81      0.81      0.81        58\n",
      "\n"
     ]
    }
   ],
   "source": [
    "# print out the classification report for each model\n",
    "for name, preds in models_to_evaluate.items():\n",
    "    if 'Random Forest' in name:\n",
    "        print(f'\\nClassification Report for {name} Training Set:')\n",
    "        print(classification_report(y_train, preds[0], target_names=target_names))\n",
    "        print(f'\\nClassification Report for {name} Test Set:')\n",
    "        print(classification_report(y_test, preds[1], target_names=target_names))"
   ]
  },
  {
   "cell_type": "code",
   "execution_count": 66,
   "metadata": {},
   "outputs": [
    {
     "data": {
      "image/png": "[encoded data removed]",
      "text/plain": [
       "<Figure size 720x576 with 1 Axes>"
      ]
     },
     "metadata": {
      "needs_background": "light"
     },
     "output_type": "display_data"
    }
   ],
   "source": [
    "# plot roc curve for train set\n",
    "fpr_train_rf, tpr_train_rf, _ = roc_curve(y_train, y_pred_train_rf)\n",
    "# calculate auc score for train set\n",
    "roc_auc_train_rf = auc(fpr_train_rf, tpr_train_rf)\n",
    "\n",
    "# plot roc curve for test set\n",
    "fpr_test_rf, tpr_test_rf, _ = roc_curve(y_test, y_pred_test_rf)\n",
    "# calculate auc score for test set\n",
    "roc_auc_test_rf = auc(fpr_test_rf, tpr_test_rf)\n",
    "\n",
    "# plot roc curve for train set using the final model\n",
    "fpr_train_final_rf, tpr_train_final_rf, _ = roc_curve(y_train, y_pred_train_final_rf)\n",
    "# calculate auc score for train set using the final model\n",
    "roc_auc_train_final_rf = auc(fpr_train_final_rf, tpr_train_final_rf)\n",
    "\n",
    "# plot roc curve for test set using the final model\n",
    "fpr_test_final_rf, tpr_test_final_rf, _ = roc_curve(y_test, y_pred_test_final_rf)\n",
    "# calculate auc score for test set using the final model\n",
    "roc_auc_test_final_rf = auc(fpr_test_final_rf, tpr_test_final_rf)\n",
    "\n",
    "plt.figure(figsize=(10, 8))\n",
    "plt.plot(fpr_train_rf, tpr_train_rf, color='red', label=f'Base Train AUC = {roc_auc_train_rf:.2f}')\n",
    "plt.plot(fpr_test_rf, tpr_test_rf, color='blue', label=f'Base Test AUC = {roc_auc_test_rf:.2f}')\n",
    "plt.plot(fpr_train_final_rf, tpr_train_final_rf, color='green', label=f'Final Train AUC = {roc_auc_train_final_rf:.2f}')\n",
    "plt.plot(fpr_test_final_rf, tpr_test_final_rf, color='black', label=f'Final Test AUC = {roc_auc_test_final_rf:.2f}')\n",
    "plt.plot([0, 1], [0, 1], color='green', linestyle='--')\n",
    "plt.xlim([0.0, 1.0])\n",
    "plt.ylim([0.0, 1.05])\n",
    "plt.xlabel('False Positive Rate')\n",
    "plt.ylabel('True Positive Rate')\n",
    "plt.title('Random Forest ROC Curve')\n",
    "plt.legend(loc=\"lower right\")\n",
    "plt.show()"
   ]
  },
  {
   "cell_type": "markdown",
   "metadata": {},
   "source": [
    "- Looking at the classification report and the AUC score, we can see that tuning has made the model from overfit to a good fit. Hence viable to be run. However, we still need to look whether the metrics is good enough for our purpose\n",
    "- We need to detect the possibility of decease as much as possible, therefore we need to minimize **False Negatives**, hence we need a high recall score\n",
    "- We successfully increased the recall score after tuning, as we can see that we now have a recall score of `0.67`\n",
    "- This however, is not enough for us, as just having a few **False Negatives** could be detrimental to the lives of our patients\n",
    "- Therefore, even though this model is now a good fit and we have successfully minimize the **False Negatives**, it is still not up to the standard needed and much improvements have to be made"
   ]
  },
  {
   "cell_type": "markdown",
   "metadata": {},
   "source": [
    "### Detailed Evaluation for Gradient Boosting Classifier"
   ]
  },
  {
   "cell_type": "code",
   "execution_count": 67,
   "metadata": {},
   "outputs": [
    {
     "name": "stdout",
     "output_type": "stream",
     "text": [
      "\n",
      "Classification Report for Base Gradient Boosting Classifier Training Set:\n",
      "              precision    recall  f1-score   support\n",
      "\n",
      "    No Death       0.89      0.99      0.94       158\n",
      "       Death       0.98      0.74      0.84        73\n",
      "\n",
      "    accuracy                           0.91       231\n",
      "   macro avg       0.94      0.87      0.89       231\n",
      "weighted avg       0.92      0.91      0.91       231\n",
      "\n",
      "\n",
      "Classification Report for Base Gradient Boosting Classifier Test Set:\n",
      "              precision    recall  f1-score   support\n",
      "\n",
      "    No Death       0.80      0.90      0.85        40\n",
      "       Death       0.69      0.50      0.58        18\n",
      "\n",
      "    accuracy                           0.78        58\n",
      "   macro avg       0.75      0.70      0.71        58\n",
      "weighted avg       0.77      0.78      0.76        58\n",
      "\n",
      "\n",
      "Classification Report for Final Gradient Boosting Classifier Training Set:\n",
      "              precision    recall  f1-score   support\n",
      "\n",
      "    No Death       0.99      1.00      0.99       158\n",
      "       Death       1.00      0.97      0.99        73\n",
      "\n",
      "    accuracy                           0.99       231\n",
      "   macro avg       0.99      0.99      0.99       231\n",
      "weighted avg       0.99      0.99      0.99       231\n",
      "\n",
      "\n",
      "Classification Report for Final Gradient Boosting Classifier Test Set:\n",
      "              precision    recall  f1-score   support\n",
      "\n",
      "    No Death       0.80      0.90      0.85        40\n",
      "       Death       0.69      0.50      0.58        18\n",
      "\n",
      "    accuracy                           0.78        58\n",
      "   macro avg       0.75      0.70      0.71        58\n",
      "weighted avg       0.77      0.78      0.76        58\n",
      "\n"
     ]
    }
   ],
   "source": [
    "# print out the classification report for each model\n",
    "for name, preds in models_to_evaluate.items():\n",
    "    if 'Gradient Boosting' in name:\n",
    "        print(f'\\nClassification Report for {name} Training Set:')\n",
    "        print(classification_report(y_train, preds[0], target_names=target_names))\n",
    "        print(f'\\nClassification Report for {name} Test Set:')\n",
    "        print(classification_report(y_test, preds[1], target_names=target_names))"
   ]
  },
  {
   "cell_type": "code",
   "execution_count": 68,
   "metadata": {},
   "outputs": [
    {
     "data": {
      "image/png": "[encoded data removed]",
      "text/plain": [
       "<Figure size 720x576 with 1 Axes>"
      ]
     },
     "metadata": {
      "needs_background": "light"
     },
     "output_type": "display_data"
    }
   ],
   "source": [
    "# plot roc curve for train set\n",
    "fpr_train_gbc, tpr_train_gbc, _ = roc_curve(y_train, y_pred_train_gbc)\n",
    "# calculate auc score for train set\n",
    "roc_auc_train_gbc = auc(fpr_train_gbc, tpr_train_gbc)\n",
    "\n",
    "# plot roc curve for test set\n",
    "fpr_test_gbc, tpr_test_gbc, _ = roc_curve(y_test, y_pred_test_gbc)\n",
    "# calculate auc score for test set\n",
    "roc_auc_test_gbc = auc(fpr_test_gbc, tpr_test_gbc)\n",
    "\n",
    "# plot roc curve for train set using the final model\n",
    "fpr_train_final_gbc, tpr_train_final_gbc, _ = roc_curve(y_train, y_pred_train_final_gbc)\n",
    "# calculate auc score for train set using the final model\n",
    "roc_auc_train_final_gbc = auc(fpr_train_final_gbc, tpr_train_final_gbc)\n",
    "\n",
    "# plot roc curve for test set using the final model\n",
    "fpr_test_final_gbc, tpr_test_final_gbc, _ = roc_curve(y_test, y_pred_test_final_gbc)\n",
    "# calculate auc score for test set using the final model\n",
    "roc_auc_test_final_gbc = auc(fpr_test_final_gbc, tpr_test_final_gbc)\n",
    "\n",
    "plt.figure(figsize=(10, 8))\n",
    "plt.plot(fpr_train_gbc, tpr_train_gbc, color='red', label=f'Base Train AUC = {roc_auc_train_gbc:.2f}')\n",
    "plt.plot(fpr_test_gbc, tpr_test_gbc, color='blue', label=f'Base Test AUC = {roc_auc_test_gbc:.2f}')\n",
    "plt.plot(fpr_train_final_gbc, tpr_train_final_gbc, color='green', label=f'Final Train AUC = {roc_auc_train_final_gbc:.2f}')\n",
    "plt.plot(fpr_test_final_gbc, tpr_test_final_gbc, color='black', label=f'Final Test AUC = {roc_auc_test_final_gbc:.2f}')\n",
    "plt.plot([0, 1], [0, 1], color='green', linestyle='--')\n",
    "plt.xlim([0.0, 1.0])\n",
    "plt.ylim([0.0, 1.05])\n",
    "plt.xlabel('False Positive Rate')\n",
    "plt.ylabel('True Positive Rate')\n",
    "plt.title('Gradient Boosting ROC Curve')\n",
    "plt.legend(loc=\"lower right\")\n",
    "plt.show()"
   ]
  },
  {
   "cell_type": "markdown",
   "metadata": {},
   "source": [
    "- Looking at the classification report and the AUC score, we can conclude that our model is overfit even after the tuning, as it still has a huge gap between the train and test scores\n",
    "- This would make the model not viable to be run, as it would not be reliable\n",
    "- The rest of the score would not be reliable as well and do not have to be further analyzed\n",
    "- Much improvements have to be made to make a good fit model\n",
    "- This could also be caused as we only have a few data to work with. We need to make further observations and collect more data"
   ]
  },
  {
   "cell_type": "markdown",
   "metadata": {},
   "source": [
    "#### Analysis\n",
    "1. We conclude that the *Final Random Forest* is now a good fit\n",
    "2. However, the model is still not up to the standard to minimize the **False Negatives**\n",
    "3. We need to improve our model to further minimize **False Negatives**\n",
    "4. One of the ways we could do this is by collecting more data"
   ]
  },
  {
   "cell_type": "markdown",
   "metadata": {},
   "source": [
    "## Save The Final Model\n",
    "\n",
    "We are going to save the *Final Random Forest* model and the *Base Gradient Boosting* model.\\\n",
    "I chose the base one for *Gradient Boosting* because it became even more overfit after tuning, so I want to avoid it"
   ]
  },
  {
   "cell_type": "code",
   "execution_count": 69,
   "metadata": {},
   "outputs": [
    {
     "data": {
      "text/plain": [
       "['models/gbc_model.pkl']"
      ]
     },
     "execution_count": 69,
     "metadata": {},
     "output_type": "execute_result"
    }
   ],
   "source": [
    "# prepare directory for saving model\n",
    "model_dir = 'models'\n",
    "model_name_rf = 'rf_model.pkl'\n",
    "model_name_gbc = 'gbc_model.pkl'\n",
    "\n",
    "# create directory if it does not exist\n",
    "Path(model_dir).mkdir(parents=True, exist_ok=True)\n",
    "\n",
    "# save final random forest classifier model\n",
    "joblib.dump(final_rf, Path(model_dir) / model_name_rf)\n",
    "\n",
    "# save base gradient boosting classifier model\n",
    "joblib.dump(gbc_pipe, Path(model_dir) / model_name_gbc)"
   ]
  },
  {
   "cell_type": "markdown",
   "metadata": {},
   "source": [
    "# 9. Model Inference"
   ]
  },
  {
   "cell_type": "markdown",
   "metadata": {},
   "source": [
    "## Load The Model"
   ]
  },
  {
   "cell_type": "code",
   "execution_count": 70,
   "metadata": {},
   "outputs": [],
   "source": [
    "# model location\n",
    "model_dir = 'models'\n",
    "model_name_rf = 'rf_model.pkl'\n",
    "model_name_gbc = 'gbc_model.pkl'\n",
    "model_path_rf = Path(model_dir) / model_name_rf\n",
    "model_path_gbc = Path(model_dir) / model_name_gbc\n",
    "\n",
    "# load random forest classifier model\n",
    "rf_model = joblib.load(model_path_rf)\n",
    "\n",
    "# load gradient boosting classifier model\n",
    "gbc_model = joblib.load(model_path_gbc)"
   ]
  },
  {
   "cell_type": "code",
   "execution_count": 71,
   "metadata": {},
   "outputs": [
    {
     "data": {
      "text/html": [
       "<div>\n",
       "<style scoped>\n",
       "    .dataframe tbody tr th:only-of-type {\n",
       "        vertical-align: middle;\n",
       "    }\n",
       "\n",
       "    .dataframe tbody tr th {\n",
       "        vertical-align: top;\n",
       "    }\n",
       "\n",
       "    .dataframe thead th {\n",
       "        text-align: right;\n",
       "    }\n",
       "</style>\n",
       "<table border=\"1\" class=\"dataframe\">\n",
       "  <thead>\n",
       "    <tr style=\"text-align: right;\">\n",
       "      <th></th>\n",
       "      <th>age</th>\n",
       "      <th>anaemia</th>\n",
       "      <th>creatinine_phosphokinase</th>\n",
       "      <th>diabetes</th>\n",
       "      <th>ejection_fraction</th>\n",
       "      <th>high_blood_pressure</th>\n",
       "      <th>platelets</th>\n",
       "      <th>serum_creatinine</th>\n",
       "      <th>serum_sodium</th>\n",
       "      <th>sex</th>\n",
       "      <th>smoking</th>\n",
       "      <th>time</th>\n",
       "      <th>death_event</th>\n",
       "    </tr>\n",
       "  </thead>\n",
       "  <tbody>\n",
       "    <tr>\n",
       "      <th>0</th>\n",
       "      <td>60.0</td>\n",
       "      <td>1</td>\n",
       "      <td>315</td>\n",
       "      <td>1</td>\n",
       "      <td>60</td>\n",
       "      <td>0</td>\n",
       "      <td>454000.0</td>\n",
       "      <td>1.1</td>\n",
       "      <td>131</td>\n",
       "      <td>1</td>\n",
       "      <td>1</td>\n",
       "      <td>10</td>\n",
       "      <td>1</td>\n",
       "    </tr>\n",
       "    <tr>\n",
       "      <th>1</th>\n",
       "      <td>50.0</td>\n",
       "      <td>0</td>\n",
       "      <td>245</td>\n",
       "      <td>0</td>\n",
       "      <td>45</td>\n",
       "      <td>1</td>\n",
       "      <td>274000.0</td>\n",
       "      <td>1.0</td>\n",
       "      <td>133</td>\n",
       "      <td>1</td>\n",
       "      <td>0</td>\n",
       "      <td>215</td>\n",
       "      <td>0</td>\n",
       "    </tr>\n",
       "    <tr>\n",
       "      <th>2</th>\n",
       "      <td>70.0</td>\n",
       "      <td>0</td>\n",
       "      <td>232</td>\n",
       "      <td>0</td>\n",
       "      <td>30</td>\n",
       "      <td>0</td>\n",
       "      <td>173000.0</td>\n",
       "      <td>1.2</td>\n",
       "      <td>132</td>\n",
       "      <td>1</td>\n",
       "      <td>0</td>\n",
       "      <td>210</td>\n",
       "      <td>0</td>\n",
       "    </tr>\n",
       "    <tr>\n",
       "      <th>3</th>\n",
       "      <td>59.0</td>\n",
       "      <td>1</td>\n",
       "      <td>280</td>\n",
       "      <td>1</td>\n",
       "      <td>25</td>\n",
       "      <td>1</td>\n",
       "      <td>302000.0</td>\n",
       "      <td>1.0</td>\n",
       "      <td>141</td>\n",
       "      <td>0</td>\n",
       "      <td>0</td>\n",
       "      <td>78</td>\n",
       "      <td>1</td>\n",
       "    </tr>\n",
       "    <tr>\n",
       "      <th>4</th>\n",
       "      <td>82.0</td>\n",
       "      <td>1</td>\n",
       "      <td>855</td>\n",
       "      <td>1</td>\n",
       "      <td>50</td>\n",
       "      <td>1</td>\n",
       "      <td>321000.0</td>\n",
       "      <td>1.0</td>\n",
       "      <td>145</td>\n",
       "      <td>0</td>\n",
       "      <td>0</td>\n",
       "      <td>30</td>\n",
       "      <td>1</td>\n",
       "    </tr>\n",
       "  </tbody>\n",
       "</table>\n",
       "</div>"
      ],
      "text/plain": [
       "    age  anaemia  creatinine_phosphokinase  diabetes  ejection_fraction  \\\n",
       "0  60.0        1                       315         1                 60   \n",
       "1  50.0        0                       245         0                 45   \n",
       "2  70.0        0                       232         0                 30   \n",
       "3  59.0        1                       280         1                 25   \n",
       "4  82.0        1                       855         1                 50   \n",
       "\n",
       "   high_blood_pressure  platelets  serum_creatinine  serum_sodium  sex  \\\n",
       "0                    0   454000.0               1.1           131    1   \n",
       "1                    1   274000.0               1.0           133    1   \n",
       "2                    0   173000.0               1.2           132    1   \n",
       "3                    1   302000.0               1.0           141    0   \n",
       "4                    1   321000.0               1.0           145    0   \n",
       "\n",
       "   smoking  time  death_event  \n",
       "0        1    10            1  \n",
       "1        0   215            0  \n",
       "2        0   210            0  \n",
       "3        0    78            1  \n",
       "4        0    30            1  "
      ]
     },
     "execution_count": 71,
     "metadata": {},
     "output_type": "execute_result"
    }
   ],
   "source": [
    "# display inference set\n",
    "df_inf.head()"
   ]
  },
  {
   "cell_type": "markdown",
   "metadata": {},
   "source": [
    "## Inferencing"
   ]
  },
  {
   "cell_type": "code",
   "execution_count": 72,
   "metadata": {},
   "outputs": [
    {
     "name": "stdout",
     "output_type": "stream",
     "text": [
      "CPU times: user 35.9 ms, sys: 256 µs, total: 36.1 ms\n",
      "Wall time: 31.8 ms\n"
     ]
    }
   ],
   "source": [
    "%%time\n",
    "\n",
    "# predict inference set using the loaded random forest classifier model\n",
    "rf_pred = rf_model.predict(df_inf)"
   ]
  },
  {
   "cell_type": "code",
   "execution_count": 73,
   "metadata": {},
   "outputs": [
    {
     "name": "stdout",
     "output_type": "stream",
     "text": [
      "CPU times: user 0 ns, sys: 15.2 ms, total: 15.2 ms\n",
      "Wall time: 13.6 ms\n"
     ]
    }
   ],
   "source": [
    "%%time\n",
    "\n",
    "# predict inference set using the loaded gradient boosting classifier model\n",
    "gbc_pred = gbc_model.predict(df_inf)"
   ]
  },
  {
   "cell_type": "code",
   "execution_count": 74,
   "metadata": {},
   "outputs": [
    {
     "data": {
      "text/html": [
       "<div>\n",
       "<style scoped>\n",
       "    .dataframe tbody tr th:only-of-type {\n",
       "        vertical-align: middle;\n",
       "    }\n",
       "\n",
       "    .dataframe tbody tr th {\n",
       "        vertical-align: top;\n",
       "    }\n",
       "\n",
       "    .dataframe thead th {\n",
       "        text-align: right;\n",
       "    }\n",
       "</style>\n",
       "<table border=\"1\" class=\"dataframe\">\n",
       "  <thead>\n",
       "    <tr style=\"text-align: right;\">\n",
       "      <th></th>\n",
       "      <th>age</th>\n",
       "      <th>anaemia</th>\n",
       "      <th>creatinine_phosphokinase</th>\n",
       "      <th>diabetes</th>\n",
       "      <th>ejection_fraction</th>\n",
       "      <th>high_blood_pressure</th>\n",
       "      <th>platelets</th>\n",
       "      <th>serum_creatinine</th>\n",
       "      <th>serum_sodium</th>\n",
       "      <th>sex</th>\n",
       "      <th>smoking</th>\n",
       "      <th>time</th>\n",
       "      <th>death_event</th>\n",
       "      <th>rf_pred</th>\n",
       "      <th>gbc_pred</th>\n",
       "    </tr>\n",
       "  </thead>\n",
       "  <tbody>\n",
       "    <tr>\n",
       "      <th>0</th>\n",
       "      <td>60.0</td>\n",
       "      <td>1</td>\n",
       "      <td>315</td>\n",
       "      <td>1</td>\n",
       "      <td>60</td>\n",
       "      <td>0</td>\n",
       "      <td>454000.0</td>\n",
       "      <td>1.1</td>\n",
       "      <td>131</td>\n",
       "      <td>1</td>\n",
       "      <td>1</td>\n",
       "      <td>10</td>\n",
       "      <td>1</td>\n",
       "      <td>0</td>\n",
       "      <td>0</td>\n",
       "    </tr>\n",
       "    <tr>\n",
       "      <th>1</th>\n",
       "      <td>50.0</td>\n",
       "      <td>0</td>\n",
       "      <td>245</td>\n",
       "      <td>0</td>\n",
       "      <td>45</td>\n",
       "      <td>1</td>\n",
       "      <td>274000.0</td>\n",
       "      <td>1.0</td>\n",
       "      <td>133</td>\n",
       "      <td>1</td>\n",
       "      <td>0</td>\n",
       "      <td>215</td>\n",
       "      <td>0</td>\n",
       "      <td>0</td>\n",
       "      <td>0</td>\n",
       "    </tr>\n",
       "    <tr>\n",
       "      <th>2</th>\n",
       "      <td>70.0</td>\n",
       "      <td>0</td>\n",
       "      <td>232</td>\n",
       "      <td>0</td>\n",
       "      <td>30</td>\n",
       "      <td>0</td>\n",
       "      <td>173000.0</td>\n",
       "      <td>1.2</td>\n",
       "      <td>132</td>\n",
       "      <td>1</td>\n",
       "      <td>0</td>\n",
       "      <td>210</td>\n",
       "      <td>0</td>\n",
       "      <td>0</td>\n",
       "      <td>1</td>\n",
       "    </tr>\n",
       "    <tr>\n",
       "      <th>3</th>\n",
       "      <td>59.0</td>\n",
       "      <td>1</td>\n",
       "      <td>280</td>\n",
       "      <td>1</td>\n",
       "      <td>25</td>\n",
       "      <td>1</td>\n",
       "      <td>302000.0</td>\n",
       "      <td>1.0</td>\n",
       "      <td>141</td>\n",
       "      <td>0</td>\n",
       "      <td>0</td>\n",
       "      <td>78</td>\n",
       "      <td>1</td>\n",
       "      <td>0</td>\n",
       "      <td>0</td>\n",
       "    </tr>\n",
       "    <tr>\n",
       "      <th>4</th>\n",
       "      <td>82.0</td>\n",
       "      <td>1</td>\n",
       "      <td>855</td>\n",
       "      <td>1</td>\n",
       "      <td>50</td>\n",
       "      <td>1</td>\n",
       "      <td>321000.0</td>\n",
       "      <td>1.0</td>\n",
       "      <td>145</td>\n",
       "      <td>0</td>\n",
       "      <td>0</td>\n",
       "      <td>30</td>\n",
       "      <td>1</td>\n",
       "      <td>1</td>\n",
       "      <td>1</td>\n",
       "    </tr>\n",
       "    <tr>\n",
       "      <th>5</th>\n",
       "      <td>77.0</td>\n",
       "      <td>1</td>\n",
       "      <td>109</td>\n",
       "      <td>0</td>\n",
       "      <td>50</td>\n",
       "      <td>1</td>\n",
       "      <td>406000.0</td>\n",
       "      <td>1.1</td>\n",
       "      <td>137</td>\n",
       "      <td>1</td>\n",
       "      <td>0</td>\n",
       "      <td>209</td>\n",
       "      <td>0</td>\n",
       "      <td>0</td>\n",
       "      <td>0</td>\n",
       "    </tr>\n",
       "    <tr>\n",
       "      <th>6</th>\n",
       "      <td>85.0</td>\n",
       "      <td>1</td>\n",
       "      <td>102</td>\n",
       "      <td>0</td>\n",
       "      <td>60</td>\n",
       "      <td>0</td>\n",
       "      <td>507000.0</td>\n",
       "      <td>3.2</td>\n",
       "      <td>138</td>\n",
       "      <td>0</td>\n",
       "      <td>0</td>\n",
       "      <td>94</td>\n",
       "      <td>0</td>\n",
       "      <td>1</td>\n",
       "      <td>0</td>\n",
       "    </tr>\n",
       "    <tr>\n",
       "      <th>7</th>\n",
       "      <td>65.0</td>\n",
       "      <td>0</td>\n",
       "      <td>146</td>\n",
       "      <td>0</td>\n",
       "      <td>20</td>\n",
       "      <td>0</td>\n",
       "      <td>162000.0</td>\n",
       "      <td>1.3</td>\n",
       "      <td>129</td>\n",
       "      <td>1</td>\n",
       "      <td>1</td>\n",
       "      <td>7</td>\n",
       "      <td>1</td>\n",
       "      <td>1</td>\n",
       "      <td>1</td>\n",
       "    </tr>\n",
       "    <tr>\n",
       "      <th>8</th>\n",
       "      <td>70.0</td>\n",
       "      <td>1</td>\n",
       "      <td>125</td>\n",
       "      <td>0</td>\n",
       "      <td>25</td>\n",
       "      <td>1</td>\n",
       "      <td>237000.0</td>\n",
       "      <td>1.0</td>\n",
       "      <td>140</td>\n",
       "      <td>0</td>\n",
       "      <td>0</td>\n",
       "      <td>15</td>\n",
       "      <td>1</td>\n",
       "      <td>0</td>\n",
       "      <td>1</td>\n",
       "    </tr>\n",
       "    <tr>\n",
       "      <th>9</th>\n",
       "      <td>70.0</td>\n",
       "      <td>1</td>\n",
       "      <td>75</td>\n",
       "      <td>0</td>\n",
       "      <td>35</td>\n",
       "      <td>0</td>\n",
       "      <td>223000.0</td>\n",
       "      <td>2.7</td>\n",
       "      <td>138</td>\n",
       "      <td>1</td>\n",
       "      <td>1</td>\n",
       "      <td>54</td>\n",
       "      <td>0</td>\n",
       "      <td>0</td>\n",
       "      <td>0</td>\n",
       "    </tr>\n",
       "  </tbody>\n",
       "</table>\n",
       "</div>"
      ],
      "text/plain": [
       "    age  anaemia  creatinine_phosphokinase  diabetes  ejection_fraction  \\\n",
       "0  60.0        1                       315         1                 60   \n",
       "1  50.0        0                       245         0                 45   \n",
       "2  70.0        0                       232         0                 30   \n",
       "3  59.0        1                       280         1                 25   \n",
       "4  82.0        1                       855         1                 50   \n",
       "5  77.0        1                       109         0                 50   \n",
       "6  85.0        1                       102         0                 60   \n",
       "7  65.0        0                       146         0                 20   \n",
       "8  70.0        1                       125         0                 25   \n",
       "9  70.0        1                        75         0                 35   \n",
       "\n",
       "   high_blood_pressure  platelets  serum_creatinine  serum_sodium  sex  \\\n",
       "0                    0   454000.0               1.1           131    1   \n",
       "1                    1   274000.0               1.0           133    1   \n",
       "2                    0   173000.0               1.2           132    1   \n",
       "3                    1   302000.0               1.0           141    0   \n",
       "4                    1   321000.0               1.0           145    0   \n",
       "5                    1   406000.0               1.1           137    1   \n",
       "6                    0   507000.0               3.2           138    0   \n",
       "7                    0   162000.0               1.3           129    1   \n",
       "8                    1   237000.0               1.0           140    0   \n",
       "9                    0   223000.0               2.7           138    1   \n",
       "\n",
       "   smoking  time  death_event  rf_pred  gbc_pred  \n",
       "0        1    10            1        0         0  \n",
       "1        0   215            0        0         0  \n",
       "2        0   210            0        0         1  \n",
       "3        0    78            1        0         0  \n",
       "4        0    30            1        1         1  \n",
       "5        0   209            0        0         0  \n",
       "6        0    94            0        1         0  \n",
       "7        1     7            1        1         1  \n",
       "8        0    15            1        0         1  \n",
       "9        1    54            0        0         0  "
      ]
     },
     "execution_count": 74,
     "metadata": {},
     "output_type": "execute_result"
    }
   ],
   "source": [
    "# add predictions to inference set\n",
    "df_inf['rf_pred'] = rf_pred\n",
    "df_inf['gbc_pred'] = gbc_pred\n",
    "\n",
    "# display inference set\n",
    "df_inf"
   ]
  },
  {
   "cell_type": "markdown",
   "metadata": {},
   "source": [
    "Model successfully run on inference dataset"
   ]
  },
  {
   "cell_type": "markdown",
   "metadata": {},
   "source": [
    "# 10. Conclusion"
   ]
  },
  {
   "cell_type": "markdown",
   "metadata": {},
   "source": [
    "## On EDA\n",
    "- Most patients did not pass away within the follow-up period\n",
    "- In the case of decease, it happened mostly within the 50-day-mark. Most patients who did not pass away, survived and could attend the follow up period until around 200 days. I assume that after this safe mark, the follow up period is performed less frequently\n",
    "- There are two modes for the survivors, around 100 days and 200 days. We could conclude that the crucial period to monitor is within those 50-day-period where the event of decease mostly happen\n",
    "- The age distribution is quite similar between the deceased and not deceased patients, however we tend to have more bulge of the profile around the 50-year-old-mark for the not deceased patients. It seems like the younger patients have a bigger chance of surviving.\n",
    "- There's not much of a difference between the profile for the deceased and the not deceased in terms of the mode. However, the not deceased has a much steeper slope. That means that the CPK enzyme is much more varied for the deceased\n",
    "- The distribution for the deceased and not deceased are different. The deceased has a much modest slope, meanwhile, the not deceased has a steeper slope, and in general has a higher ejection fraction compared to the deceased.\n",
    "- The mode of the profile is quite similar for the serum creatinine. It's just that the not deceased is more focused with the steeper slope, as the serum creatinine is more varied on the deceased, as can be seen that there are outlier on the right side.\n",
    "- The mode of the distribution for the not deceased tends to be higher on the serum sodium scale. This could mean that people who have higher level of serum sodium in the blood tend to have a higher probability of surviving"
   ]
  },
  {
   "cell_type": "markdown",
   "metadata": {},
   "source": [
    "## On Modeling\n",
    "- The models are mostly overfit because we only have a few data to work with\n",
    "- The model that has a good fit, are still terrible to be used because its recall value is not particularly high, which means we might misclassifly some patients as safe, while actually being in danger and having a high chance of dying within the follow-up period"
   ]
  },
  {
   "cell_type": "markdown",
   "metadata": {},
   "source": [
    "## Implication\n",
    "- The event of death detection is important so we could take the correct measurement for the corresponding patients\n",
    "- Therefore, we need to be prudent and classify a patient as having a higher chance of death, even though they may not\n",
    "- The other way around is quite dangerous, as misclassifying a patient as safe whilst actually in danger could carry the sense of false hope and endanger one's life, instead of taking the necessary precautions\n",
    "- Therefore, our model is still terrible at detecting those few detrimental patients need to be further improved"
   ]
  },
  {
   "cell_type": "markdown",
   "metadata": {},
   "source": [
    "## Future Improvement\n",
    "- We need to collect more data\n",
    "- Consider running hyperparameter tuning on more parameters\n",
    "- Consider using other combinations of features for feature selection\n",
    "- Consider splitting the train and test set in a different ratio"
   ]
  },
  {
   "cell_type": "markdown",
   "metadata": {},
   "source": [
    "# Conceptual Problems"
   ]
  },
  {
   "cell_type": "markdown",
   "metadata": {},
   "source": [
    "1. Please explain the term Bagging?\n",
    "    - Bagging is short for *bootstrap aggregating*\n",
    "    - It derived multiple subsets from the whole set that are independent from each other and combine the possible outcomes from those subsets to produce a better model\n",
    "2. Please explain the difference between the Random Forest algorithm and the boosting algorithm of your choosing\n",
    "    - Boosting is the method of combining several weak learners into a strong learner.\n",
    "    - Its process is sequential, making it dependent on each learners\n",
    "    - Gradient boosting works by sequentially adding predictors to an ensemble, each learning from the one before. Gradient Boosting does this by fitting the new predictor to the errors made by the previous one\n",
    "    - Random Forest is a decision tree that is trained via a bagging method. Therefore, each ensembles ar independent from each other, therefore creating more randomness with each ensemble, instead of learning from the one before like gradient boosting would"
   ]
  }
 ],
 "metadata": {
  "interpreter": {
   "hash": "57744ed932a5da4ffb7d5879d9b65170d321805180660db910f737e8fd70cf58"
  },
  "kernelspec": {
   "display_name": "Python 3.9.12 (conda)",
   "language": "python",
   "name": "python3"
  },
  "language_info": {
   "codemirror_mode": {
    "name": "ipython",
    "version": 3
   },
   "file_extension": ".py",
   "mimetype": "text/x-python",
   "name": "python",
   "nbconvert_exporter": "python",
   "pygments_lexer": "ipython3",
   "version": "3.8.13"
  },
  "orig_nbformat": 4
 },
 "nbformat": 4,
 "nbformat_minor": 2
}
